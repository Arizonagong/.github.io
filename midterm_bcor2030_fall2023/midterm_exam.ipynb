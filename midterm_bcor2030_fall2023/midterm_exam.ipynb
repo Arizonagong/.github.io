{
 "cells": [
  {
   "attachments": {},
   "cell_type": "markdown",
   "metadata": {},
   "source": [
    "**Exam policy**\n",
    "\n",
    "1. Setting your vscode, python, and jupyternotebook environment as guided below(10):\n",
    "a. You will create new project called \"midterm_yourname\"(1pt)\n",
    "b. You will create virtual environment in your vscode(1pt).\n",
    "c. You will set your jupyternotebook kernel(engine)(1pt)\n",
    "d. You will install all required python libraries using 'pip install'(1pt)\n",
    "e. You will fulfull all exam tasks without an error(5pt). If you have an error while taking your exam and cannot solve it for yourself, then you can raise your hand to ask for help from the TA and instructor, but your score will be discounted by 5 points.\n",
    "\n",
    "2. Solving problems\n",
    "a. Each problems include multiple sub-question items.\n",
    "b. You should provide answer to individual sub-question items.\n",
    "c. There are two different answer types [code] and [explain]. [code] means you will submit your answer with a python code. In this case you should mark that your code is an answer to which question like leaving a note #Question1, number2. [explain] means you will submit your answer simply by typing answers. If you does not submit code answers to the question categorized as [code] then you will get 0 point."
   ]
  },
  {
   "attachments": {},
   "cell_type": "markdown",
   "metadata": {},
   "source": [
    "HINTs:\n",
    "binom.pmf(x,n,p)\n",
    "np.arnage()\n",
    "plt.bar(x,y)\n",
    "plt.show()\n",
    "stat.NormalDist(mu=m, sigma=sd)\n",
    "NormalDist_object.cdf()\n",
    "NormalDist_object.inv_cdf()\n",
    "pd.read_csv()\n",
    "pandas_dataframe_object.sample()\n",
    "pandas_dataframe_object[\"column_name\"].mean()\n",
    "**pandas_dataframe_object[\"column_name\"].std()**\n",
    "**numpy_array_object[range].sum()** #Here the range can be set by like '1:10', indicating range from 1 to 9."
   ]
  },
  {
   "cell_type": "code",
   "execution_count": null,
   "metadata": {},
   "outputs": [],
   "source": [
    "import numpy as np\n",
    "import pandas as pd\n",
    "import matplotlib as map\n",
    "import matplotlib.pyplot as plt\n",
    "import scipy as sc\n",
    "import statistics as stat\n",
    "from scipy.stats import binom\n",
    "import seaborn as sns"
   ]
  },
  {
   "attachments": {},
   "cell_type": "markdown",
   "metadata": {},
   "source": [
    "**Question1.**\n",
    "\n",
    "Let's assume that the University of Utah Hospital has 88% of success rate in heart surgery. Then,\n",
    "\n",
    "1. [code]What is the probability of having 90 success in the next 100 heart surgery for this hospital?(1pt)\n",
    "2. [code]Draw a probability distribution plot of this case.(1pt)\n",
    "3. [code]What is the probability that the surgery will success more than 90 times out of 100 trials?(2pt)"
   ]
  },
  {
   "attachments": {},
   "cell_type": "markdown",
   "metadata": {},
   "source": [
    "**Question2.**\n",
    "\n",
    "New dean of David Eccles School of Business wants to know the average GPA(from 0 to 4.0) of the BCOR 2030 classes for the last 5 years. \n",
    "\n",
    "1. [explain]What is population here?(0.3pt)\n",
    "2. [explain]What is parameter here?(0.2pt)\n",
    "3. [code]Load the population data table into your python environment.(0.5pt)\n",
    "4. [code]Do the random sampling as much as 10% of its observations.(0.5pt)\n",
    "5. [code]Calculate your sample statistics.(0.5pt)\n",
    "6. [explain]Explain why you did the sampling though you have the list of population at hand. That is, why you need to use part of your data set to calculate while you have full data set.(1pt)\n",
    "7. [explain]Explain why your sample statistics is parameter estimate here.(1pt)"
   ]
  },
  {
   "attachments": {},
   "cell_type": "markdown",
   "metadata": {},
   "source": [
    "**Question3.**\n",
    "\n",
    "Fort motor company produces hybrid car. The company investigated its average life time of engine and transimission combined and found that average life time is 120,000km and standard deviation was 10,000km. \n",
    "\n",
    "Then, the Fort wants to provide a guarantee service package providing free replacement of engine and transimission if it fails before reaching 100,000km. \n",
    "\n",
    "So, the Fort company marketing team now wants to know the probability that the engine and transmission will last less than 100,000km.\n",
    "\n",
    "1. [code]What is the probability that the engine and transmission will last less than 100,000km?(1pt)\n",
    "2. [explain]If the budget they allocated to replace failed engine and transmission for free is $ 600,000,000, their annual production capacity is 5,000,000 cars, and replacement cost per car is estimated to be $5,000, then do you think that the Fort can promote this new service promotion? Explain why with specific numbers at your hand.(1pt)"
   ]
  },
  {
   "attachments": {},
   "cell_type": "markdown",
   "metadata": {},
   "source": [
    "**Question4.**\n",
    "\n",
    "Continued from the question3.\n",
    "\n",
    "[code]Now the Fort motor company realized that they have to reduce the allocated budget for this promotion. Now their new allocated budget for the free replacement was adjusted to $200,000,000. Then, how much of the distance they should gaurantee for the free replacement promotion given the reduced allocated budget? (Cutoff all decimal values.)(3pt)"
   ]
  },
  {
   "attachments": {},
   "cell_type": "markdown",
   "metadata": {},
   "source": [
    "**Question5**\n",
    "\n",
    "Cell phone manufacturor Aplus recently released new Aphone 15. But it was harshly criticised for the technical failure as there were multiple consumer report saying Aphone 15 was overheated while using it. Usually, cell phone is considered to be overheated if its surface temperature exceeds 50 celsius degree while using it with more than 80% of its memory capacity. \n",
    "\n",
    "So, they decided to implement the internal investigation. They selected 100 Aphone 15 out of 500 Aphone 15 produced in their factories so far.  \n",
    "\n",
    "1. [explain]What is population here for the internal investigation?(0.3pt)\n",
    "2. [explain]What is parameter here for the internal investigation?(0.2pt)\n",
    "3. [code]Load the population data table into your python environment.(0.5pt)\n",
    "4. [code]Do the random sampling as much as 100 observations.(0.5pt)\n",
    "5. [code]Calculate your sample statistics of mean.(0.5pt)\n",
    "6. [code]Calculate your sample statistics of standard deviation(0.5pt)"
   ]
  }
 ],
 "metadata": {
  "language_info": {
   "name": "python"
  },
  "orig_nbformat": 4
 },
 "nbformat": 4,
 "nbformat_minor": 2
}
