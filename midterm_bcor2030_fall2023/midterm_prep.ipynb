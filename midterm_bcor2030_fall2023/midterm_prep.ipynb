{
 "cells": [
  {
   "attachments": {},
   "cell_type": "markdown",
   "metadata": {},
   "source": [
    "Exam policy\n",
    "\n",
    "1. Setting your vscode, python, and jupyternotebook environment as guided below(10):\n",
    "* If you fail to create the environment having error, then you can request a help to TA and instructor, but you will get -5 score.\n",
    "a. You will create new project called \"midterm_yourname\"\n",
    "b. You will create virtual environment in your vscode.\n",
    "c. You will set your jupyternotebook kernel(engine)\n",
    "d. You will install all required python libraries using 'pip install'\n",
    "\n",
    "2. Solving problems\n",
    "\n"
   ]
  },
  {
   "cell_type": "code",
   "execution_count": 1,
   "metadata": {},
   "outputs": [],
   "source": [
    "import numpy as np\n",
    "import pandas as pd\n",
    "import matplotlib as map\n",
    "import matplotlib.pyplot as plt\n",
    "import scipy as sc\n",
    "import statistics as stat\n",
    "from scipy.stats import binom\n",
    "import seaborn as sns"
   ]
  },
  {
   "attachments": {},
   "cell_type": "markdown",
   "metadata": {},
   "source": [
    "HINTs:\n",
    "binom.pmf(x,n,p)\n",
    "np.arnage()\n",
    "plt.bar(x,y)\n",
    "plt.show()\n",
    "stat.NormalDist(mu=m, sigma=sd)\n",
    "NormalDist_object.cdf()\n",
    "NormalDist_object.inv_cdf()\n",
    "pd.read_csv()\n",
    "pandas_dataframe_object.sample()\n",
    "pandas_dataframe_object[\"column_name\"].mean()"
   ]
  },
  {
   "attachments": {},
   "cell_type": "markdown",
   "metadata": {},
   "source": [
    "Question1.\n",
    "\n",
    "Dongkyu and Chulung are working on an algorithmic trading project for the TEK club. By using their project, Dongkyu assumes that their project has 60% chance of making a profitable trade (success) and 40% chance of making an unprofitable trade (failure) in the stock market. \n",
    "\n",
    "1. What is the probability of making 15 profitable trades out of 20 with a given successful rate?\n",
    "2. Draw a probability distribution plot of this case."
   ]
  },
  {
   "cell_type": "code",
   "execution_count": 4,
   "metadata": {},
   "outputs": [
    {
     "data": {
      "text/plain": [
       "0.07464701952887114"
      ]
     },
     "execution_count": 4,
     "metadata": {},
     "output_type": "execute_result"
    }
   ],
   "source": [
    "n=20\n",
    "p=0.6\n",
    "x=15\n",
    "binom_pmf_single=binom.pmf(x,n,p)\n",
    "binom_pmf_single"
   ]
  },
  {
   "cell_type": "code",
   "execution_count": 5,
   "metadata": {},
   "outputs": [
    {
     "data": {
      "text/plain": [
       "array([ 0,  1,  2,  3,  4,  5,  6,  7,  8,  9, 10, 11, 12, 13, 14, 15, 16,\n",
       "       17, 18, 19, 20])"
      ]
     },
     "execution_count": 5,
     "metadata": {},
     "output_type": "execute_result"
    }
   ],
   "source": [
    "k=np.arange(0,n+1)\n",
    "k"
   ]
  },
  {
   "cell_type": "code",
   "execution_count": 6,
   "metadata": {},
   "outputs": [
    {
     "data": {
      "text/plain": [
       "array([1.09951163e-08, 3.29853488e-07, 4.70041221e-06, 4.23037099e-05,\n",
       "       2.69686150e-04, 1.29449352e-03, 4.85435071e-03, 1.45630521e-02,\n",
       "       3.54974396e-02, 7.09948791e-02, 1.17141551e-01, 1.59738478e-01,\n",
       "       1.79705788e-01, 1.65882266e-01, 1.24411699e-01, 7.46470195e-02,\n",
       "       3.49907904e-02, 1.23496907e-02, 3.08742268e-03, 4.87487792e-04,\n",
       "       3.65615844e-05])"
      ]
     },
     "execution_count": 6,
     "metadata": {},
     "output_type": "execute_result"
    }
   ],
   "source": [
    "binomial_pmf_all=binom.pmf(k,n,p)\n",
    "binomial_pmf_all"
   ]
  },
  {
   "cell_type": "code",
   "execution_count": 7,
   "metadata": {},
   "outputs": [
    {
     "data": {
      "image/png": "[encoded data removed]",
      "text/plain": [
       "<Figure size 640x480 with 1 Axes>"
      ]
     },
     "metadata": {},
     "output_type": "display_data"
    }
   ],
   "source": [
    "plt.bar(k, binomial_pmf_all, color='blue')\n",
    "plt.show()"
   ]
  },
  {
   "attachments": {},
   "cell_type": "markdown",
   "metadata": {},
   "source": [
    "Question2.\n",
    "\n",
    "Jiwon, Juah, and Hyeonji take a multiple-choice exam together. Each question has two possible answers (True or False). As they work together to solve each question, their probability of guessing the correct answer is 70%. \n",
    "\n",
    "1. What is the probability of making 25 correct answer out of 30 given quiz questions for this group?\n",
    "2. Draw a probability distribution plot of this case."
   ]
  },
  {
   "attachments": {},
   "cell_type": "markdown",
   "metadata": {},
   "source": [
    "Question3.\n",
    "\n",
    "Hyundai motor company produces new electric vehicle. This new vehicle has a battery pack and its average lifetime was 400,000km and standard deviation was 40,000km. Then, the Hyundai wants to provide a new promotion replacing battery pack for free if it doesn't last equal or more than 100,000km. So, they want to know the probability that the battery will fail to last equal or more than 100,000km."
   ]
  },
  {
   "cell_type": "code",
   "execution_count": 8,
   "metadata": {},
   "outputs": [
    {
     "data": {
      "text/plain": [
       "3.191891195797325e-14"
      ]
     },
     "execution_count": 8,
     "metadata": {},
     "output_type": "execute_result"
    }
   ],
   "source": [
    "m=400000\n",
    "sd=40000\n",
    "x=100000\n",
    "nmdist=stat.NormalDist(mu=m, sigma=sd)\n",
    "nmdist.cdf(x)"
   ]
  },
  {
   "attachments": {},
   "cell_type": "markdown",
   "metadata": {},
   "source": [
    "Question4.\n",
    "\n",
    "Hyundai motor company does not want to provide free replacement service more than 10% of its sold electric vehicles. Then, how much of km do they need to guarantee?\n"
   ]
  },
  {
   "cell_type": "code",
   "execution_count": 9,
   "metadata": {},
   "outputs": [
    {
     "data": {
      "text/plain": [
       "348737.93737821595"
      ]
     },
     "execution_count": 9,
     "metadata": {},
     "output_type": "execute_result"
    }
   ],
   "source": [
    "m=400000\n",
    "sd=40000\n",
    "p=0.1\n",
    "nmdist.inv_cdf(p)"
   ]
  },
  {
   "attachments": {},
   "cell_type": "markdown",
   "metadata": {},
   "source": [
    "Question5.\n",
    "\n",
    "Incheon city administrator wanted to measure average amount of daily water intake of adults living in Songdo area for this year 2023. They collected list of all adult residents in Songdo and surveyed their daily water intake.\n",
    "\n",
    "1. What is population here? Adults living in Songdo area for the year 2023.\n",
    "2. What is parameter here? Average amount of daily water intake of adults living in Songdo area for the year 2023\n",
    "3. Load the data table into your python environment.\n",
    "4. Do the random sampling as much as 10% of its observations.\n",
    "5. Calculate your sample statistics."
   ]
  },
  {
   "cell_type": "code",
   "execution_count": 10,
   "metadata": {},
   "outputs": [
    {
     "data": {
      "text/html": [
       "<div>\n",
       "<style scoped>\n",
       "    .dataframe tbody tr th:only-of-type {\n",
       "        vertical-align: middle;\n",
       "    }\n",
       "\n",
       "    .dataframe tbody tr th {\n",
       "        vertical-align: top;\n",
       "    }\n",
       "\n",
       "    .dataframe thead th {\n",
       "        text-align: right;\n",
       "    }\n",
       "</style>\n",
       "<table border=\"1\" class=\"dataframe\">\n",
       "  <thead>\n",
       "    <tr style=\"text-align: right;\">\n",
       "      <th></th>\n",
       "      <th>Unnamed: 0</th>\n",
       "      <th>wt_day</th>\n",
       "    </tr>\n",
       "  </thead>\n",
       "  <tbody>\n",
       "    <tr>\n",
       "      <th>0</th>\n",
       "      <td>0</td>\n",
       "      <td>2.304494</td>\n",
       "    </tr>\n",
       "    <tr>\n",
       "      <th>1</th>\n",
       "      <td>1</td>\n",
       "      <td>3.115432</td>\n",
       "    </tr>\n",
       "    <tr>\n",
       "      <th>2</th>\n",
       "      <td>2</td>\n",
       "      <td>2.709209</td>\n",
       "    </tr>\n",
       "    <tr>\n",
       "      <th>3</th>\n",
       "      <td>3</td>\n",
       "      <td>2.295899</td>\n",
       "    </tr>\n",
       "    <tr>\n",
       "      <th>4</th>\n",
       "      <td>4</td>\n",
       "      <td>2.483021</td>\n",
       "    </tr>\n",
       "    <tr>\n",
       "      <th>...</th>\n",
       "      <td>...</td>\n",
       "      <td>...</td>\n",
       "    </tr>\n",
       "    <tr>\n",
       "      <th>89995</th>\n",
       "      <td>89995</td>\n",
       "      <td>2.236171</td>\n",
       "    </tr>\n",
       "    <tr>\n",
       "      <th>89996</th>\n",
       "      <td>89996</td>\n",
       "      <td>2.777696</td>\n",
       "    </tr>\n",
       "    <tr>\n",
       "      <th>89997</th>\n",
       "      <td>89997</td>\n",
       "      <td>2.572248</td>\n",
       "    </tr>\n",
       "    <tr>\n",
       "      <th>89998</th>\n",
       "      <td>89998</td>\n",
       "      <td>2.019097</td>\n",
       "    </tr>\n",
       "    <tr>\n",
       "      <th>89999</th>\n",
       "      <td>89999</td>\n",
       "      <td>2.392465</td>\n",
       "    </tr>\n",
       "  </tbody>\n",
       "</table>\n",
       "<p>90000 rows × 2 columns</p>\n",
       "</div>"
      ],
      "text/plain": [
       "       Unnamed: 0    wt_day\n",
       "0               0  2.304494\n",
       "1               1  3.115432\n",
       "2               2  2.709209\n",
       "3               3  2.295899\n",
       "4               4  2.483021\n",
       "...           ...       ...\n",
       "89995       89995  2.236171\n",
       "89996       89996  2.777696\n",
       "89997       89997  2.572248\n",
       "89998       89998  2.019097\n",
       "89999       89999  2.392465\n",
       "\n",
       "[90000 rows x 2 columns]"
      ]
     },
     "execution_count": 10,
     "metadata": {},
     "output_type": "execute_result"
    }
   ],
   "source": [
    "df=pd.read_csv(\"water.csv\")\n",
    "df"
   ]
  },
  {
   "cell_type": "code",
   "execution_count": 12,
   "metadata": {},
   "outputs": [
    {
     "data": {
      "text/html": [
       "<div>\n",
       "<style scoped>\n",
       "    .dataframe tbody tr th:only-of-type {\n",
       "        vertical-align: middle;\n",
       "    }\n",
       "\n",
       "    .dataframe tbody tr th {\n",
       "        vertical-align: top;\n",
       "    }\n",
       "\n",
       "    .dataframe thead th {\n",
       "        text-align: right;\n",
       "    }\n",
       "</style>\n",
       "<table border=\"1\" class=\"dataframe\">\n",
       "  <thead>\n",
       "    <tr style=\"text-align: right;\">\n",
       "      <th></th>\n",
       "      <th>Unnamed: 0</th>\n",
       "      <th>wt_day</th>\n",
       "    </tr>\n",
       "  </thead>\n",
       "  <tbody>\n",
       "    <tr>\n",
       "      <th>51339</th>\n",
       "      <td>51339</td>\n",
       "      <td>3.335108</td>\n",
       "    </tr>\n",
       "    <tr>\n",
       "      <th>25703</th>\n",
       "      <td>25703</td>\n",
       "      <td>2.732767</td>\n",
       "    </tr>\n",
       "    <tr>\n",
       "      <th>28807</th>\n",
       "      <td>28807</td>\n",
       "      <td>2.814780</td>\n",
       "    </tr>\n",
       "    <tr>\n",
       "      <th>61845</th>\n",
       "      <td>61845</td>\n",
       "      <td>2.547129</td>\n",
       "    </tr>\n",
       "    <tr>\n",
       "      <th>17953</th>\n",
       "      <td>17953</td>\n",
       "      <td>2.477580</td>\n",
       "    </tr>\n",
       "    <tr>\n",
       "      <th>...</th>\n",
       "      <td>...</td>\n",
       "      <td>...</td>\n",
       "    </tr>\n",
       "    <tr>\n",
       "      <th>53351</th>\n",
       "      <td>53351</td>\n",
       "      <td>2.065639</td>\n",
       "    </tr>\n",
       "    <tr>\n",
       "      <th>79290</th>\n",
       "      <td>79290</td>\n",
       "      <td>2.363218</td>\n",
       "    </tr>\n",
       "    <tr>\n",
       "      <th>87177</th>\n",
       "      <td>87177</td>\n",
       "      <td>2.462122</td>\n",
       "    </tr>\n",
       "    <tr>\n",
       "      <th>66998</th>\n",
       "      <td>66998</td>\n",
       "      <td>3.153484</td>\n",
       "    </tr>\n",
       "    <tr>\n",
       "      <th>42741</th>\n",
       "      <td>42741</td>\n",
       "      <td>2.442149</td>\n",
       "    </tr>\n",
       "  </tbody>\n",
       "</table>\n",
       "<p>9000 rows × 2 columns</p>\n",
       "</div>"
      ],
      "text/plain": [
       "       Unnamed: 0    wt_day\n",
       "51339       51339  3.335108\n",
       "25703       25703  2.732767\n",
       "28807       28807  2.814780\n",
       "61845       61845  2.547129\n",
       "17953       17953  2.477580\n",
       "...           ...       ...\n",
       "53351       53351  2.065639\n",
       "79290       79290  2.363218\n",
       "87177       87177  2.462122\n",
       "66998       66998  3.153484\n",
       "42741       42741  2.442149\n",
       "\n",
       "[9000 rows x 2 columns]"
      ]
     },
     "execution_count": 12,
     "metadata": {},
     "output_type": "execute_result"
    }
   ],
   "source": [
    "df_sam=df.sample(frac=0.1)\n",
    "df_sam"
   ]
  },
  {
   "cell_type": "code",
   "execution_count": 13,
   "metadata": {},
   "outputs": [
    {
     "data": {
      "text/plain": [
       "2.496973202563832"
      ]
     },
     "execution_count": 13,
     "metadata": {},
     "output_type": "execute_result"
    }
   ],
   "source": [
    "df_sam[\"wt_day\"].mean()"
   ]
  }
 ],
 "metadata": {
  "kernelspec": {
   "display_name": ".venv",
   "language": "python",
   "name": "python3"
  },
  "language_info": {
   "codemirror_mode": {
    "name": "ipython",
    "version": 3
   },
   "file_extension": ".py",
   "mimetype": "text/x-python",
   "name": "python",
   "nbconvert_exporter": "python",
   "pygments_lexer": "ipython3",
   "version": "3.11.0"
  },
  "orig_nbformat": 4
 },
 "nbformat": 4,
 "nbformat_minor": 2
}
