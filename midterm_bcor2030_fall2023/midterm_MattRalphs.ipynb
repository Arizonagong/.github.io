{
 "cells": [
  {
   "attachments": {},
   "cell_type": "markdown",
   "metadata": {},
   "source": [
    "**Exam policy**\n",
    "\n",
    "1. Setting your vscode, python, and jupyternotebook environment as guided below(10):\n",
    "a. You will create new project called \"midterm_yourname\"(1pt)\n",
    "b. You will create virtual environment in your vscode(1pt).\n",
    "c. You will set your jupyternotebook kernel(engine)(1pt)\n",
    "d. You will install all required python libraries using 'pip install'(1pt)\n",
    "e. You will fulfull all exam tasks without an error(5pt). If you have an error while taking your exam and cannot solve it for yourself, then you can raise your hand to ask for help from the TA and instructor, but your score will be discounted by 5 points.\n",
    "\n",
    "2. Solving problems\n",
    "a. Each problems include multiple sub-question items.\n",
    "b. You should provide answer to individual sub-question items.\n",
    "c. There are two different answer types [code] and [explain]. [code] means you will submit your answer with a python code. In this case you should mark that your code is an answer to which question like leaving a note #Question1, number2. [explain] means you will submit your answer simply by typing answers. If you does not submit code answers to the question categorized as [code] then you will get 0 point."
   ]
  },
  {
   "attachments": {},
   "cell_type": "markdown",
   "metadata": {},
   "source": [
    "HINTs:\n",
    "binom.pmf(x,n,p)\n",
    "np.arnage()\n",
    "plt.bar(x,y)\n",
    "plt.show()\n",
    "stat.NormalDist(mu=m, sigma=sd)\n",
    "NormalDist_object.cdf()\n",
    "NormalDist_object.inv_cdf()\n",
    "pd.read_csv()\n",
    "pandas_dataframe_object.sample()\n",
    "pandas_dataframe_object[\"column_name\"].mean()\n",
    "**pandas_dataframe_object[\"column_name\"].std()**\n",
    "**numpy_array_object[range].sum()** #Here the range can be set by like '1:10', indicating range from 1 to 9."
   ]
  },
  {
   "cell_type": "code",
   "execution_count": 1,
   "metadata": {},
   "outputs": [],
   "source": [
    "import numpy as np\n",
    "import pandas as pd\n",
    "import matplotlib as map\n",
    "import matplotlib.pyplot as plt\n",
    "import scipy as sc\n",
    "import statistics as stat\n",
    "from scipy.stats import binom\n",
    "import seaborn as sns"
   ]
  },
  {
   "attachments": {},
   "cell_type": "markdown",
   "metadata": {},
   "source": [
    "**Question1.**\n",
    "\n",
    "Let's assume that the University of Utah Hospital has 88% of success rate in heart surgery. Then,\n",
    "\n",
    "1. [code]What is the probability of having 90 success in the next 100 heart surgery for this hospital?(1pt)\n",
    "2. [code]Draw a probability distribution plot of this case.(1pt)\n",
    "3. [code]What is the probability that the surgery will success more than 90 times out of 100 trials?(2pt)"
   ]
  },
  {
   "cell_type": "code",
   "execution_count": 2,
   "metadata": {},
   "outputs": [
    {
     "data": {
      "text/plain": [
       "0.10803333569827409"
      ]
     },
     "execution_count": 2,
     "metadata": {},
     "output_type": "execute_result"
    }
   ],
   "source": [
    "n=100\n",
    "x=90\n",
    "p=.88\n",
    "\n",
    "binomial_pmf_single=binom.pmf(x,n,p)\n",
    "binomial_pmf_single\n",
    "\n",
    "#Q1-1"
   ]
  },
  {
   "cell_type": "code",
   "execution_count": 3,
   "metadata": {},
   "outputs": [
    {
     "data": {
      "text/plain": [
       "array([  0,   1,   2,   3,   4,   5,   6,   7,   8,   9,  10,  11,  12,\n",
       "        13,  14,  15,  16,  17,  18,  19,  20,  21,  22,  23,  24,  25,\n",
       "        26,  27,  28,  29,  30,  31,  32,  33,  34,  35,  36,  37,  38,\n",
       "        39,  40,  41,  42,  43,  44,  45,  46,  47,  48,  49,  50,  51,\n",
       "        52,  53,  54,  55,  56,  57,  58,  59,  60,  61,  62,  63,  64,\n",
       "        65,  66,  67,  68,  69,  70,  71,  72,  73,  74,  75,  76,  77,\n",
       "        78,  79,  80,  81,  82,  83,  84,  85,  86,  87,  88,  89,  90,\n",
       "        91,  92,  93,  94,  95,  96,  97,  98,  99, 100])"
      ]
     },
     "execution_count": 3,
     "metadata": {},
     "output_type": "execute_result"
    }
   ],
   "source": [
    "k=np.arange(0,n+1)\n",
    "k"
   ]
  },
  {
   "cell_type": "code",
   "execution_count": 4,
   "metadata": {},
   "outputs": [
    {
     "data": {
      "text/plain": [
       "array([8.28179745e-93, 6.07331813e-90, 2.20461448e-87, 5.28127647e-85,\n",
       "       9.39186999e-83, 1.32237529e-80, 1.53542465e-78, 1.51202770e-76,\n",
       "       1.28900361e-74, 9.66275302e-73, 6.44827718e-71, 3.86896631e-69,\n",
       "       2.10428779e-67, 1.04459004e-65, 4.76034604e-64, 2.00146105e-62,\n",
       "       7.79735866e-61, 2.82539584e-59, 9.55402372e-58, 3.02376470e-56,\n",
       "       8.98058116e-55, 2.50886077e-53, 6.60666669e-52, 1.64304928e-50,\n",
       "       3.86572984e-49, 8.61800038e-48, 1.82303854e-46, 3.66408240e-45,\n",
       "       7.00537660e-44, 1.27546167e-42, 2.21363459e-41, 3.66558846e-40,\n",
       "       5.79621175e-39, 8.75871997e-38, 1.26572091e-36, 1.75031120e-35,\n",
       "       2.31754168e-34, 2.93972854e-33, 3.57409101e-32, 4.16671807e-31,\n",
       "       4.65977971e-30, 5.00073920e-29, 5.15155515e-28, 5.09564680e-27,\n",
       "       4.84086446e-26, 4.41773704e-25, 3.87352306e-24, 3.26364922e-23,\n",
       "       2.64264930e-22, 2.05659238e-21, 1.53833110e-20, 1.10598968e-19,\n",
       "       7.64267227e-19, 5.07588800e-18, 3.23979518e-17, 1.98707438e-16,\n",
       "       1.17095454e-15, 6.62856139e-15, 3.60380406e-14, 1.88130788e-13,\n",
       "       9.42744284e-13, 4.53341514e-12, 2.09122053e-11, 9.25005484e-11,\n",
       "       3.92163783e-10, 1.59278829e-09, 6.19417668e-09, 2.30509659e-08,\n",
       "       8.20343200e-08, 2.78995948e-07, 9.06072556e-07, 2.80754876e-06,\n",
       "       8.29266718e-06, 2.33254931e-05, 6.24114544e-05, 1.58663786e-04,\n",
       "       3.82741590e-04, 8.74837920e-04, 1.89174354e-03, 3.86330748e-03,\n",
       "       7.43686689e-03, 1.34659318e-02, 2.28811362e-02, 3.63892768e-02,\n",
       "       5.40063077e-02, 7.45498835e-02, 9.53545022e-02, 1.12525619e-01,\n",
       "       1.21902754e-01, 1.20533060e-01, 1.08033336e-01, 8.70598310e-02,\n",
       "       6.24559657e-02, 3.93987454e-02, 2.15156269e-02, 9.96513246e-03,\n",
       "       3.80612698e-03, 1.15099373e-03, 2.58386347e-04, 3.82794588e-05,\n",
       "       2.80716031e-06])"
      ]
     },
     "execution_count": 4,
     "metadata": {},
     "output_type": "execute_result"
    }
   ],
   "source": [
    "binomial_pmf_all=binom.pmf(k,n,p)\n",
    "binomial_pmf_all"
   ]
  },
  {
   "cell_type": "code",
   "execution_count": 5,
   "metadata": {},
   "outputs": [
    {
     "data": {
      "image/png": "[encoded data removed]",
      "text/plain": [
       "<Figure size 640x480 with 1 Axes>"
      ]
     },
     "metadata": {},
     "output_type": "display_data"
    }
   ],
   "source": [
    "plt.bar(k,binomial_pmf_all,color='blue')\n",
    "plt.show()\n",
    "\n",
    "#Q1-2"
   ]
  },
  {
   "cell_type": "code",
   "execution_count": 24,
   "metadata": {},
   "outputs": [
    {
     "ename": "UFuncTypeError",
     "evalue": "ufunc 'subtract' did not contain a loop with signature matching types (dtype('<U2'), dtype('int64')) -> None",
     "output_type": "error",
     "traceback": [
      "\u001b[0;31m---------------------------------------------------------------------------\u001b[0m",
      "\u001b[0;31mUFuncTypeError\u001b[0m                            Traceback (most recent call last)",
      "Cell \u001b[0;32mIn[24], line 5\u001b[0m\n\u001b[1;32m      2\u001b[0m x\u001b[39m=\u001b[39m\u001b[39m90\u001b[39m\n\u001b[1;32m      3\u001b[0m p\u001b[39m=\u001b[39m\u001b[39m.88\u001b[39m\n\u001b[0;32m----> 5\u001b[0m binomial_pmf_mult\u001b[39m=\u001b[39mbinom\u001b[39m.\u001b[39;49mpmf(\u001b[39m\"\u001b[39;49m\u001b[39mx<\u001b[39;49m\u001b[39m\"\u001b[39;49m,n,p)\n\u001b[1;32m      6\u001b[0m binomial_pmf_mult\n\u001b[1;32m      8\u001b[0m \u001b[39m#Q1-3\u001b[39;00m\n",
      "File \u001b[0;32m~/Downloads/exam1 2030/.venv/lib/python3.11/site-packages/scipy/stats/_distn_infrastructure.py:3368\u001b[0m, in \u001b[0;36mrv_discrete.pmf\u001b[0;34m(self, k, *args, **kwds)\u001b[0m\n\u001b[1;32m   3366\u001b[0m args \u001b[39m=\u001b[39m \u001b[39mtuple\u001b[39m(\u001b[39mmap\u001b[39m(asarray, args))\n\u001b[1;32m   3367\u001b[0m _a, _b \u001b[39m=\u001b[39m \u001b[39mself\u001b[39m\u001b[39m.\u001b[39m_get_support(\u001b[39m*\u001b[39margs)\n\u001b[0;32m-> 3368\u001b[0m k \u001b[39m=\u001b[39m asarray(k\u001b[39m-\u001b[39;49mloc)\n\u001b[1;32m   3369\u001b[0m cond0 \u001b[39m=\u001b[39m \u001b[39mself\u001b[39m\u001b[39m.\u001b[39m_argcheck(\u001b[39m*\u001b[39margs)\n\u001b[1;32m   3370\u001b[0m cond1 \u001b[39m=\u001b[39m (k \u001b[39m>\u001b[39m\u001b[39m=\u001b[39m _a) \u001b[39m&\u001b[39m (k \u001b[39m<\u001b[39m\u001b[39m=\u001b[39m _b)\n",
      "\u001b[0;31mUFuncTypeError\u001b[0m: ufunc 'subtract' did not contain a loop with signature matching types (dtype('<U2'), dtype('int64')) -> None"
     ]
    }
   ],
   "source": [
    "n=100\n",
    "x=90\n",
    "p=.88\n",
    "\n",
    "binomial_pmf_mult=binom.pmf(\"x<\",n,p)\n",
    "binomial_pmf_mult\n",
    "\n",
    "#Q1-3"
   ]
  },
  {
   "cell_type": "code",
   "execution_count": null,
   "metadata": {},
   "outputs": [],
   "source": [
    "k=np.arange(0,n+1)"
   ]
  },
  {
   "attachments": {},
   "cell_type": "markdown",
   "metadata": {},
   "source": [
    "**Question2.**\n",
    "\n",
    "New dean of David Eccles School of Business wants to know the average GPA(from 0 to 4.0) of the BCOR 2030 classes for the last 5 years. \n",
    "\n",
    "1. [explain]What is population here?(0.3pt)\n",
    "2. [explain]What is parameter here?(0.2pt)\n",
    "3. [code]Load the population data table into your python environment.(0.5pt)\n",
    "4. [code]Do the random sampling as much as 10% of its observations.(0.5pt)\n",
    "5. [code]Calculate your sample statistics.(0.5pt)\n",
    "6. [explain]Explain why you did the sampling though you have the list of population at hand. That is, why you need to use part of your data set to calculate while you have full data set.(1pt)\n",
    "7. [explain]Explain why your sample statistics is parameter estimate here.(1pt)"
   ]
  },
  {
   "cell_type": "code",
   "execution_count": 6,
   "metadata": {},
   "outputs": [
    {
     "data": {
      "text/html": [
       "<div>\n",
       "<style scoped>\n",
       "    .dataframe tbody tr th:only-of-type {\n",
       "        vertical-align: middle;\n",
       "    }\n",
       "\n",
       "    .dataframe tbody tr th {\n",
       "        vertical-align: top;\n",
       "    }\n",
       "\n",
       "    .dataframe thead th {\n",
       "        text-align: right;\n",
       "    }\n",
       "</style>\n",
       "<table border=\"1\" class=\"dataframe\">\n",
       "  <thead>\n",
       "    <tr style=\"text-align: right;\">\n",
       "      <th></th>\n",
       "      <th>Unnamed: 0</th>\n",
       "      <th>gpa</th>\n",
       "    </tr>\n",
       "  </thead>\n",
       "  <tbody>\n",
       "    <tr>\n",
       "      <th>0</th>\n",
       "      <td>0</td>\n",
       "      <td>3.161377</td>\n",
       "    </tr>\n",
       "    <tr>\n",
       "      <th>1</th>\n",
       "      <td>1</td>\n",
       "      <td>3.015511</td>\n",
       "    </tr>\n",
       "    <tr>\n",
       "      <th>2</th>\n",
       "      <td>2</td>\n",
       "      <td>2.361640</td>\n",
       "    </tr>\n",
       "    <tr>\n",
       "      <th>3</th>\n",
       "      <td>3</td>\n",
       "      <td>3.701209</td>\n",
       "    </tr>\n",
       "    <tr>\n",
       "      <th>4</th>\n",
       "      <td>4</td>\n",
       "      <td>3.135863</td>\n",
       "    </tr>\n",
       "    <tr>\n",
       "      <th>...</th>\n",
       "      <td>...</td>\n",
       "      <td>...</td>\n",
       "    </tr>\n",
       "    <tr>\n",
       "      <th>2495</th>\n",
       "      <td>2495</td>\n",
       "      <td>2.750331</td>\n",
       "    </tr>\n",
       "    <tr>\n",
       "      <th>2496</th>\n",
       "      <td>2496</td>\n",
       "      <td>3.523590</td>\n",
       "    </tr>\n",
       "    <tr>\n",
       "      <th>2497</th>\n",
       "      <td>2497</td>\n",
       "      <td>3.780843</td>\n",
       "    </tr>\n",
       "    <tr>\n",
       "      <th>2498</th>\n",
       "      <td>2498</td>\n",
       "      <td>2.799802</td>\n",
       "    </tr>\n",
       "    <tr>\n",
       "      <th>2499</th>\n",
       "      <td>2499</td>\n",
       "      <td>4.392421</td>\n",
       "    </tr>\n",
       "  </tbody>\n",
       "</table>\n",
       "<p>2500 rows × 2 columns</p>\n",
       "</div>"
      ],
      "text/plain": [
       "      Unnamed: 0       gpa\n",
       "0              0  3.161377\n",
       "1              1  3.015511\n",
       "2              2  2.361640\n",
       "3              3  3.701209\n",
       "4              4  3.135863\n",
       "...          ...       ...\n",
       "2495        2495  2.750331\n",
       "2496        2496  3.523590\n",
       "2497        2497  3.780843\n",
       "2498        2498  2.799802\n",
       "2499        2499  4.392421\n",
       "\n",
       "[2500 rows x 2 columns]"
      ]
     },
     "execution_count": 6,
     "metadata": {},
     "output_type": "execute_result"
    }
   ],
   "source": [
    "#Q2-1 population is all BCOR 2030 classes in the last 5 years\n",
    "#Q2-2 parameter is the average GPA of all BCOR 2030 classes over the last 5 years\n",
    "\n",
    "#Q2-3 \n",
    "df=pd.read_csv(\"gpa.csv\")\n",
    "df"
   ]
  },
  {
   "cell_type": "code",
   "execution_count": 8,
   "metadata": {},
   "outputs": [
    {
     "data": {
      "text/html": [
       "<div>\n",
       "<style scoped>\n",
       "    .dataframe tbody tr th:only-of-type {\n",
       "        vertical-align: middle;\n",
       "    }\n",
       "\n",
       "    .dataframe tbody tr th {\n",
       "        vertical-align: top;\n",
       "    }\n",
       "\n",
       "    .dataframe thead th {\n",
       "        text-align: right;\n",
       "    }\n",
       "</style>\n",
       "<table border=\"1\" class=\"dataframe\">\n",
       "  <thead>\n",
       "    <tr style=\"text-align: right;\">\n",
       "      <th></th>\n",
       "      <th>Unnamed: 0</th>\n",
       "      <th>gpa</th>\n",
       "    </tr>\n",
       "  </thead>\n",
       "  <tbody>\n",
       "    <tr>\n",
       "      <th>624</th>\n",
       "      <td>624</td>\n",
       "      <td>2.598029</td>\n",
       "    </tr>\n",
       "    <tr>\n",
       "      <th>77</th>\n",
       "      <td>77</td>\n",
       "      <td>3.549022</td>\n",
       "    </tr>\n",
       "    <tr>\n",
       "      <th>1251</th>\n",
       "      <td>1251</td>\n",
       "      <td>3.428398</td>\n",
       "    </tr>\n",
       "    <tr>\n",
       "      <th>1007</th>\n",
       "      <td>1007</td>\n",
       "      <td>2.116057</td>\n",
       "    </tr>\n",
       "    <tr>\n",
       "      <th>336</th>\n",
       "      <td>336</td>\n",
       "      <td>2.445302</td>\n",
       "    </tr>\n",
       "    <tr>\n",
       "      <th>...</th>\n",
       "      <td>...</td>\n",
       "      <td>...</td>\n",
       "    </tr>\n",
       "    <tr>\n",
       "      <th>2193</th>\n",
       "      <td>2193</td>\n",
       "      <td>2.782106</td>\n",
       "    </tr>\n",
       "    <tr>\n",
       "      <th>735</th>\n",
       "      <td>735</td>\n",
       "      <td>2.687803</td>\n",
       "    </tr>\n",
       "    <tr>\n",
       "      <th>179</th>\n",
       "      <td>179</td>\n",
       "      <td>2.986434</td>\n",
       "    </tr>\n",
       "    <tr>\n",
       "      <th>412</th>\n",
       "      <td>412</td>\n",
       "      <td>3.401044</td>\n",
       "    </tr>\n",
       "    <tr>\n",
       "      <th>1739</th>\n",
       "      <td>1739</td>\n",
       "      <td>2.528508</td>\n",
       "    </tr>\n",
       "  </tbody>\n",
       "</table>\n",
       "<p>250 rows × 2 columns</p>\n",
       "</div>"
      ],
      "text/plain": [
       "      Unnamed: 0       gpa\n",
       "624          624  2.598029\n",
       "77            77  3.549022\n",
       "1251        1251  3.428398\n",
       "1007        1007  2.116057\n",
       "336          336  2.445302\n",
       "...          ...       ...\n",
       "2193        2193  2.782106\n",
       "735          735  2.687803\n",
       "179          179  2.986434\n",
       "412          412  3.401044\n",
       "1739        1739  2.528508\n",
       "\n",
       "[250 rows x 2 columns]"
      ]
     },
     "execution_count": 8,
     "metadata": {},
     "output_type": "execute_result"
    }
   ],
   "source": [
    "#Q2-4\n",
    "df_sam=df.sample(frac=.1)\n",
    "df_sam"
   ]
  },
  {
   "cell_type": "code",
   "execution_count": 9,
   "metadata": {},
   "outputs": [
    {
     "data": {
      "text/plain": [
       "3.164926381985403"
      ]
     },
     "execution_count": 9,
     "metadata": {},
     "output_type": "execute_result"
    }
   ],
   "source": [
    "#Q2-5\n",
    "df_sam[\"gpa\"].mean()"
   ]
  },
  {
   "cell_type": "code",
   "execution_count": null,
   "metadata": {},
   "outputs": [],
   "source": [
    "#Q2-6 We need to use a sample statistic rather than the population statistic because the full data set of 2500 is an excessive number and pulling data from a smaller sample is much easier and efficient\n",
    "#Q2-7 Our sample statistic of 3.165 is our parameter estimate in that it gives us an estimate of what the GPA of all 2500 classes were over the last 5 years using a sample set of 250."
   ]
  },
  {
   "attachments": {},
   "cell_type": "markdown",
   "metadata": {},
   "source": [
    "**Question3.**\n",
    "\n",
    "Fort motor company produces hybrid car. The company investigated its average life time of engine and transimission combined and found that average life time is 120,000km and standard deviation was 10,000km. \n",
    "\n",
    "Then, the Fort wants to provide a guarantee service package providing free replacement of engine and transimission if it fails before reaching 100,000km. \n",
    "\n",
    "So, the Fort company marketing team now wants to know the probability that the engine and transmission will last less than 100,000km.\n",
    "\n",
    "1. [code]What is the probability that the engine and transmission will last less than 100,000km?(1pt)\n",
    "2. [explain]If the budget they allocated to replace failed engine and transmission for free is $ 600,000,000, their annual production capacity is 5,000,000 cars, and replacement cost per car is estimated to be $5,000, then do you think that the Fort can promote this new service promotion? Explain why with specific numbers at your hand.(1pt)"
   ]
  },
  {
   "cell_type": "code",
   "execution_count": 10,
   "metadata": {},
   "outputs": [
    {
     "data": {
      "text/plain": [
       "0.02275013194817921"
      ]
     },
     "execution_count": 10,
     "metadata": {},
     "output_type": "execute_result"
    }
   ],
   "source": [
    "m=120000\n",
    "sd=10000\n",
    "x=100000\n",
    "\n",
    "nmdist=stat.NormalDist(mu=m,sigma=sd)\n",
    "nmdist.cdf(x)\n",
    "\n",
    "#Q3-1"
   ]
  },
  {
   "cell_type": "code",
   "execution_count": 12,
   "metadata": {},
   "outputs": [
    {
     "data": {
      "text/plain": [
       "113750.0"
      ]
     },
     "execution_count": 12,
     "metadata": {},
     "output_type": "execute_result"
    }
   ],
   "source": [
    ".02275*5000000"
   ]
  },
  {
   "cell_type": "code",
   "execution_count": 13,
   "metadata": {},
   "outputs": [
    {
     "data": {
      "text/plain": [
       "568750000"
      ]
     },
     "execution_count": 13,
     "metadata": {},
     "output_type": "execute_result"
    }
   ],
   "source": [
    "113750*5000"
   ]
  },
  {
   "cell_type": "code",
   "execution_count": null,
   "metadata": {},
   "outputs": [],
   "source": [
    "#Q3-2\n",
    "#Yes, the budget will suffice to implement this new service program. Given the estimated 2.275% of car engline failures before 100000 miles, that number being 113750 cars, multiplied by $5000 each comes out to $568750000 which is just below the allocated budget."
   ]
  },
  {
   "attachments": {},
   "cell_type": "markdown",
   "metadata": {},
   "source": [
    "**Question4.**\n",
    "\n",
    "Continued from the question3.\n",
    "\n",
    "[code]Now the Fort motor company realized that they have to reduce the allocated budget for this promotion. Now their new allocated budget for the free replacement was adjusted to $200,000,000. Then, how much of the distance they should gaurantee for the free replacement promotion given the reduced allocated budget? (Cutoff all decimal values.)(3pt)"
   ]
  },
  {
   "cell_type": "code",
   "execution_count": 15,
   "metadata": {},
   "outputs": [
    {
     "data": {
      "text/plain": [
       "40000.0"
      ]
     },
     "execution_count": 15,
     "metadata": {},
     "output_type": "execute_result"
    }
   ],
   "source": [
    "200000000/5000"
   ]
  },
  {
   "cell_type": "code",
   "execution_count": 16,
   "metadata": {},
   "outputs": [
    {
     "data": {
      "text/plain": [
       "0.3516483516483517"
      ]
     },
     "execution_count": 16,
     "metadata": {},
     "output_type": "execute_result"
    }
   ],
   "source": [
    "40000/113750"
   ]
  },
  {
   "cell_type": "code",
   "execution_count": 17,
   "metadata": {},
   "outputs": [
    {
     "data": {
      "text/plain": [
       "0.0079989"
      ]
     },
     "execution_count": 17,
     "metadata": {},
     "output_type": "execute_result"
    }
   ],
   "source": [
    ".3516*.02275"
   ]
  },
  {
   "cell_type": "code",
   "execution_count": 18,
   "metadata": {},
   "outputs": [
    {
     "data": {
      "text/plain": [
       "95910.84454184539"
      ]
     },
     "execution_count": 18,
     "metadata": {},
     "output_type": "execute_result"
    }
   ],
   "source": [
    "nmdist.inv_cdf(.008)"
   ]
  },
  {
   "cell_type": "code",
   "execution_count": null,
   "metadata": {},
   "outputs": [],
   "source": [
    "#Q4\n",
    "you would want to have a mile cutoff of 95,911 or to be more safe around 95,000."
   ]
  },
  {
   "attachments": {},
   "cell_type": "markdown",
   "metadata": {},
   "source": [
    "**Question5**\n",
    "\n",
    "Cell phone manufacturor Aplus recently released new Aphone 15. But it was harshly criticised for the technical failure as there were multiple consumer report saying Aphone 15 was overheated while using it. Usually, cell phone is considered to be overheated if its surface temperature exceeds 50 celsius degree while using it with more than 80% of its memory capacity. \n",
    "\n",
    "So, they decided to implement the internal investigation. They selected 100 Aphone 15 out of 500 Aphone 15 produced in their factories so far.  \n",
    "\n",
    "1. [explain]What is population here for the internal investigation?(0.3pt)\n",
    "2. [explain]What is parameter here for the internal investigation?(0.2pt)\n",
    "3. [code]Load the population data table into your python environment.(0.5pt)\n",
    "4. [code]Do the random sampling as much as 100 observations.(0.5pt)\n",
    "5. [code]Calculate your sample statistics of mean.(0.5pt)\n",
    "6. [code]Calculate your sample statistics of standard deviation(0.5pt)"
   ]
  },
  {
   "cell_type": "code",
   "execution_count": 19,
   "metadata": {},
   "outputs": [
    {
     "data": {
      "text/html": [
       "<div>\n",
       "<style scoped>\n",
       "    .dataframe tbody tr th:only-of-type {\n",
       "        vertical-align: middle;\n",
       "    }\n",
       "\n",
       "    .dataframe tbody tr th {\n",
       "        vertical-align: top;\n",
       "    }\n",
       "\n",
       "    .dataframe thead th {\n",
       "        text-align: right;\n",
       "    }\n",
       "</style>\n",
       "<table border=\"1\" class=\"dataframe\">\n",
       "  <thead>\n",
       "    <tr style=\"text-align: right;\">\n",
       "      <th></th>\n",
       "      <th>Unnamed: 0</th>\n",
       "      <th>heat</th>\n",
       "    </tr>\n",
       "  </thead>\n",
       "  <tbody>\n",
       "    <tr>\n",
       "      <th>0</th>\n",
       "      <td>0</td>\n",
       "      <td>43.567259</td>\n",
       "    </tr>\n",
       "    <tr>\n",
       "      <th>1</th>\n",
       "      <td>1</td>\n",
       "      <td>48.529537</td>\n",
       "    </tr>\n",
       "    <tr>\n",
       "      <th>2</th>\n",
       "      <td>2</td>\n",
       "      <td>44.239902</td>\n",
       "    </tr>\n",
       "    <tr>\n",
       "      <th>3</th>\n",
       "      <td>3</td>\n",
       "      <td>45.266129</td>\n",
       "    </tr>\n",
       "    <tr>\n",
       "      <th>4</th>\n",
       "      <td>4</td>\n",
       "      <td>41.908738</td>\n",
       "    </tr>\n",
       "    <tr>\n",
       "      <th>...</th>\n",
       "      <td>...</td>\n",
       "      <td>...</td>\n",
       "    </tr>\n",
       "    <tr>\n",
       "      <th>495</th>\n",
       "      <td>495</td>\n",
       "      <td>41.604088</td>\n",
       "    </tr>\n",
       "    <tr>\n",
       "      <th>496</th>\n",
       "      <td>496</td>\n",
       "      <td>45.043831</td>\n",
       "    </tr>\n",
       "    <tr>\n",
       "      <th>497</th>\n",
       "      <td>497</td>\n",
       "      <td>45.408876</td>\n",
       "    </tr>\n",
       "    <tr>\n",
       "      <th>498</th>\n",
       "      <td>498</td>\n",
       "      <td>43.879165</td>\n",
       "    </tr>\n",
       "    <tr>\n",
       "      <th>499</th>\n",
       "      <td>499</td>\n",
       "      <td>44.432303</td>\n",
       "    </tr>\n",
       "  </tbody>\n",
       "</table>\n",
       "<p>500 rows × 2 columns</p>\n",
       "</div>"
      ],
      "text/plain": [
       "     Unnamed: 0       heat\n",
       "0             0  43.567259\n",
       "1             1  48.529537\n",
       "2             2  44.239902\n",
       "3             3  45.266129\n",
       "4             4  41.908738\n",
       "..          ...        ...\n",
       "495         495  41.604088\n",
       "496         496  45.043831\n",
       "497         497  45.408876\n",
       "498         498  43.879165\n",
       "499         499  44.432303\n",
       "\n",
       "[500 rows x 2 columns]"
      ]
     },
     "execution_count": 19,
     "metadata": {},
     "output_type": "execute_result"
    }
   ],
   "source": [
    "#Q5-1 population is all 500 Aphone 15s produced in their factories so far.\n",
    "#Q5-2 Parameter is what percent of Aphone 15s overheat to above 50 degrees celcius at 80% memory use.\n",
    "\n",
    "#Q5-3\n",
    "df=pd.read_csv(\"aphone.csv\")\n",
    "df"
   ]
  },
  {
   "cell_type": "code",
   "execution_count": 20,
   "metadata": {},
   "outputs": [
    {
     "data": {
      "text/html": [
       "<div>\n",
       "<style scoped>\n",
       "    .dataframe tbody tr th:only-of-type {\n",
       "        vertical-align: middle;\n",
       "    }\n",
       "\n",
       "    .dataframe tbody tr th {\n",
       "        vertical-align: top;\n",
       "    }\n",
       "\n",
       "    .dataframe thead th {\n",
       "        text-align: right;\n",
       "    }\n",
       "</style>\n",
       "<table border=\"1\" class=\"dataframe\">\n",
       "  <thead>\n",
       "    <tr style=\"text-align: right;\">\n",
       "      <th></th>\n",
       "      <th>Unnamed: 0</th>\n",
       "      <th>heat</th>\n",
       "    </tr>\n",
       "  </thead>\n",
       "  <tbody>\n",
       "    <tr>\n",
       "      <th>283</th>\n",
       "      <td>283</td>\n",
       "      <td>42.477793</td>\n",
       "    </tr>\n",
       "    <tr>\n",
       "      <th>32</th>\n",
       "      <td>32</td>\n",
       "      <td>45.878303</td>\n",
       "    </tr>\n",
       "    <tr>\n",
       "      <th>246</th>\n",
       "      <td>246</td>\n",
       "      <td>45.012997</td>\n",
       "    </tr>\n",
       "    <tr>\n",
       "      <th>415</th>\n",
       "      <td>415</td>\n",
       "      <td>47.122026</td>\n",
       "    </tr>\n",
       "    <tr>\n",
       "      <th>21</th>\n",
       "      <td>21</td>\n",
       "      <td>43.777016</td>\n",
       "    </tr>\n",
       "    <tr>\n",
       "      <th>...</th>\n",
       "      <td>...</td>\n",
       "      <td>...</td>\n",
       "    </tr>\n",
       "    <tr>\n",
       "      <th>55</th>\n",
       "      <td>55</td>\n",
       "      <td>44.802129</td>\n",
       "    </tr>\n",
       "    <tr>\n",
       "      <th>42</th>\n",
       "      <td>42</td>\n",
       "      <td>44.417714</td>\n",
       "    </tr>\n",
       "    <tr>\n",
       "      <th>411</th>\n",
       "      <td>411</td>\n",
       "      <td>44.879398</td>\n",
       "    </tr>\n",
       "    <tr>\n",
       "      <th>157</th>\n",
       "      <td>157</td>\n",
       "      <td>45.823651</td>\n",
       "    </tr>\n",
       "    <tr>\n",
       "      <th>216</th>\n",
       "      <td>216</td>\n",
       "      <td>45.341652</td>\n",
       "    </tr>\n",
       "  </tbody>\n",
       "</table>\n",
       "<p>100 rows × 2 columns</p>\n",
       "</div>"
      ],
      "text/plain": [
       "     Unnamed: 0       heat\n",
       "283         283  42.477793\n",
       "32           32  45.878303\n",
       "246         246  45.012997\n",
       "415         415  47.122026\n",
       "21           21  43.777016\n",
       "..          ...        ...\n",
       "55           55  44.802129\n",
       "42           42  44.417714\n",
       "411         411  44.879398\n",
       "157         157  45.823651\n",
       "216         216  45.341652\n",
       "\n",
       "[100 rows x 2 columns]"
      ]
     },
     "execution_count": 20,
     "metadata": {},
     "output_type": "execute_result"
    }
   ],
   "source": [
    "#Q5-4\n",
    "df_sam=df.sample(100)\n",
    "df_sam"
   ]
  },
  {
   "cell_type": "code",
   "execution_count": 21,
   "metadata": {},
   "outputs": [
    {
     "data": {
      "text/plain": [
       "45.109246682881455"
      ]
     },
     "execution_count": 21,
     "metadata": {},
     "output_type": "execute_result"
    }
   ],
   "source": [
    "#Q5-5\n",
    "df_sam[\"heat\"].mean()"
   ]
  },
  {
   "cell_type": "code",
   "execution_count": 22,
   "metadata": {},
   "outputs": [
    {
     "data": {
      "text/plain": [
       "1.9526996481539194"
      ]
     },
     "execution_count": 22,
     "metadata": {},
     "output_type": "execute_result"
    }
   ],
   "source": [
    "#Q5-6\n",
    "df_sam[\"heat\"].std()"
   ]
  },
  {
   "cell_type": "code",
   "execution_count": null,
   "metadata": {},
   "outputs": [],
   "source": []
  }
 ],
 "metadata": {
  "kernelspec": {
   "display_name": ".venv",
   "language": "python",
   "name": "python3"
  },
  "language_info": {
   "codemirror_mode": {
    "name": "ipython",
    "version": 3
   },
   "file_extension": ".py",
   "mimetype": "text/x-python",
   "name": "python",
   "nbconvert_exporter": "python",
   "pygments_lexer": "ipython3",
   "version": "3.11.5"
  },
  "orig_nbformat": 4
 },
 "nbformat": 4,
 "nbformat_minor": 2
}
