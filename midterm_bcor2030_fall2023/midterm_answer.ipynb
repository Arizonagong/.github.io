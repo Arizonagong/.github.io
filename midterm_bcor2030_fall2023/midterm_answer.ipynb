{
 "cells": [
  {
   "attachments": {},
   "cell_type": "markdown",
   "metadata": {},
   "source": [
    "**Exam policy**\n",
    "\n",
    "1. Setting your vscode, python, and jupyternotebook environment as guided below(10):\n",
    "a. You will create new project called \"midterm_yourname\"(1pt)\n",
    "b. You will create virtual environment in your vscode(1pt).\n",
    "c. You will set your jupyternotebook kernel(engine)(1pt)\n",
    "d. You will install all required python libraries using 'pip install'(1pt)\n",
    "e. You will fulfull all exam tasks without an error(5pt). If you have an error while taking your exam and cannot solve it for yourself, then you can raise your hand to ask for help from the TA and instructor, but your score will be discounted by 5 points.\n",
    "\n",
    "2. Solving problems\n",
    "a. Each problems include multiple sub-question items.abstract\n",
    "b. You should provide answer to individual sub-question items.\n",
    "c. There are two different answer types [code] and [explain]. [code] means you will submit your answer with a python code. In this case you should mark that your code is an answer to which question like leaving a note #Question1, number2. [explain] means you will submit your answer simply by typing answers. If you does not submit code answers to the question categorized as [code] then you will get 0 point."
   ]
  },
  {
   "attachments": {},
   "cell_type": "markdown",
   "metadata": {},
   "source": [
    "HINTs:\n",
    "binom.pmf(x,n,p)\n",
    "np.arange()\n",
    "plt.bar(x,y)\n",
    "plt.show()\n",
    "stat.NormalDist(mu=m, sigma=sd)\n",
    "NormalDist_object.cdf()\n",
    "NormalDist_object.inv_cdf()\n",
    "pd.read_csv()\n",
    "pandas_dataframe_object.sample()\n",
    "pandas_dataframe_object[\"column_name\"].mean()\n",
    "**pandas_dataframe_object[\"column_name\"].std()**\n",
    "**numpy_array_object[range].sum()** #Here the range can be set by like '1:10', indicating range from 1 to 9.\n"
   ]
  },
  {
   "cell_type": "code",
   "execution_count": 2,
   "metadata": {},
   "outputs": [],
   "source": [
    "import numpy as np\n",
    "import pandas as pd\n",
    "import matplotlib as map\n",
    "import matplotlib.pyplot as plt\n",
    "import scipy as sc\n",
    "import statistics as stat\n",
    "from scipy.stats import binom\n",
    "import seaborn as sns"
   ]
  },
  {
   "attachments": {},
   "cell_type": "markdown",
   "metadata": {},
   "source": [
    "**Question1.**\n",
    "\n",
    "Let's assume that the University of Utah Hospital has 88% of success rate in heart surgery. Then,\n",
    "\n",
    "1. [code]What is the probability of having 90 success in the next 100 heart surgery for this hospital?(1pt)\n",
    "2. [code]Draw a probability distribution plot of this case.(1pt)\n",
    "3. [code]What is the probability that the surgery will success more than 90 times out of 100 trials?(2pt)"
   ]
  },
  {
   "cell_type": "code",
   "execution_count": 3,
   "metadata": {},
   "outputs": [
    {
     "data": {
      "text/plain": [
       "0.10803333569827409"
      ]
     },
     "execution_count": 3,
     "metadata": {},
     "output_type": "execute_result"
    }
   ],
   "source": [
    "n=100\n",
    "p=0.88\n",
    "x=90\n",
    "binom_pmf_single=binom.pmf(x,n,p)\n",
    "binom_pmf_single"
   ]
  },
  {
   "cell_type": "code",
   "execution_count": 4,
   "metadata": {},
   "outputs": [
    {
     "data": {
      "text/plain": [
       "array([  0,   1,   2,   3,   4,   5,   6,   7,   8,   9,  10,  11,  12,\n",
       "        13,  14,  15,  16,  17,  18,  19,  20,  21,  22,  23,  24,  25,\n",
       "        26,  27,  28,  29,  30,  31,  32,  33,  34,  35,  36,  37,  38,\n",
       "        39,  40,  41,  42,  43,  44,  45,  46,  47,  48,  49,  50,  51,\n",
       "        52,  53,  54,  55,  56,  57,  58,  59,  60,  61,  62,  63,  64,\n",
       "        65,  66,  67,  68,  69,  70,  71,  72,  73,  74,  75,  76,  77,\n",
       "        78,  79,  80,  81,  82,  83,  84,  85,  86,  87,  88,  89,  90,\n",
       "        91,  92,  93,  94,  95,  96,  97,  98,  99, 100])"
      ]
     },
     "execution_count": 4,
     "metadata": {},
     "output_type": "execute_result"
    }
   ],
   "source": [
    "k=np.arange(0,n+1)\n",
    "k"
   ]
  },
  {
   "cell_type": "code",
   "execution_count": 5,
   "metadata": {},
   "outputs": [
    {
     "data": {
      "text/plain": [
       "array([8.28179745e-93, 6.07331813e-90, 2.20461448e-87, 5.28127647e-85,\n",
       "       9.39186999e-83, 1.32237529e-80, 1.53542465e-78, 1.51202770e-76,\n",
       "       1.28900361e-74, 9.66275302e-73, 6.44827718e-71, 3.86896631e-69,\n",
       "       2.10428779e-67, 1.04459004e-65, 4.76034604e-64, 2.00146105e-62,\n",
       "       7.79735866e-61, 2.82539584e-59, 9.55402372e-58, 3.02376470e-56,\n",
       "       8.98058116e-55, 2.50886077e-53, 6.60666669e-52, 1.64304928e-50,\n",
       "       3.86572984e-49, 8.61800038e-48, 1.82303854e-46, 3.66408240e-45,\n",
       "       7.00537660e-44, 1.27546167e-42, 2.21363459e-41, 3.66558846e-40,\n",
       "       5.79621175e-39, 8.75871997e-38, 1.26572091e-36, 1.75031120e-35,\n",
       "       2.31754168e-34, 2.93972854e-33, 3.57409101e-32, 4.16671807e-31,\n",
       "       4.65977971e-30, 5.00073920e-29, 5.15155515e-28, 5.09564680e-27,\n",
       "       4.84086446e-26, 4.41773704e-25, 3.87352306e-24, 3.26364922e-23,\n",
       "       2.64264930e-22, 2.05659238e-21, 1.53833110e-20, 1.10598968e-19,\n",
       "       7.64267227e-19, 5.07588800e-18, 3.23979518e-17, 1.98707438e-16,\n",
       "       1.17095454e-15, 6.62856139e-15, 3.60380406e-14, 1.88130788e-13,\n",
       "       9.42744284e-13, 4.53341514e-12, 2.09122053e-11, 9.25005484e-11,\n",
       "       3.92163783e-10, 1.59278829e-09, 6.19417668e-09, 2.30509659e-08,\n",
       "       8.20343200e-08, 2.78995948e-07, 9.06072556e-07, 2.80754876e-06,\n",
       "       8.29266718e-06, 2.33254931e-05, 6.24114544e-05, 1.58663786e-04,\n",
       "       3.82741590e-04, 8.74837920e-04, 1.89174354e-03, 3.86330748e-03,\n",
       "       7.43686689e-03, 1.34659318e-02, 2.28811362e-02, 3.63892768e-02,\n",
       "       5.40063077e-02, 7.45498835e-02, 9.53545022e-02, 1.12525619e-01,\n",
       "       1.21902754e-01, 1.20533060e-01, 1.08033336e-01, 8.70598310e-02,\n",
       "       6.24559657e-02, 3.93987454e-02, 2.15156269e-02, 9.96513246e-03,\n",
       "       3.80612698e-03, 1.15099373e-03, 2.58386347e-04, 3.82794588e-05,\n",
       "       2.80716031e-06])"
      ]
     },
     "execution_count": 5,
     "metadata": {},
     "output_type": "execute_result"
    }
   ],
   "source": [
    "binomial_pmf_all=binom.pmf(k,n,p)\n",
    "binomial_pmf_all\n"
   ]
  },
  {
   "cell_type": "code",
   "execution_count": 25,
   "metadata": {},
   "outputs": [
    {
     "data": {
      "text/plain": [
       "0.22565189509283945"
      ]
     },
     "execution_count": 25,
     "metadata": {},
     "output_type": "execute_result"
    }
   ],
   "source": [
    "binomial_pmf_all[91:101].sum()"
   ]
  },
  {
   "cell_type": "code",
   "execution_count": 13,
   "metadata": {},
   "outputs": [
    {
     "data": {
      "image/png": "[encoded data removed]",
      "text/plain": [
       "<Figure size 640x480 with 1 Axes>"
      ]
     },
     "metadata": {},
     "output_type": "display_data"
    }
   ],
   "source": [
    "plt.bar(k, binomial_pmf_all, color='blue')\n",
    "plt.show()"
   ]
  },
  {
   "attachments": {},
   "cell_type": "markdown",
   "metadata": {},
   "source": [
    "**Question2.**\n",
    "\n",
    "New dean of David Eccles School of Business wants to know the average GPA of the BCOR 2030 classes for the last 5 years. \n",
    "\n",
    "1. [explain]What is population here?(0.3pt)\n",
    "2. [explain]What is parameter here?(0.2pt)\n",
    "3. [code]Load the population data table into your python environment.(0.5pt)\n",
    "4. [code]Do the random sampling as much as 10% of its observations.(0.5pt)\n",
    "5. [code]Calculate your sample statistics.(0.5pt)\n",
    "6. [explain]Explain why you did the sampling though you have the list of population at hand. That is, why you need to use part of your data set to calculate while you have full data set.(1pt)\n",
    "7. [explain]Explain why your sample statistics is parameter estimate here.(1pt)\n"
   ]
  },
  {
   "cell_type": "code",
   "execution_count": 10,
   "metadata": {},
   "outputs": [
    {
     "data": {
      "text/plain": [
       "3.193676771499061"
      ]
     },
     "execution_count": 10,
     "metadata": {},
     "output_type": "execute_result"
    }
   ],
   "source": [
    "df=pd.read_csv(\"gpa.csv\")\n",
    "df_sam=df.sample(frac=0.1)\n",
    "df_sam[\"gpa\"].mean()"
   ]
  },
  {
   "attachments": {},
   "cell_type": "markdown",
   "metadata": {},
   "source": [
    "**Question3.**\n",
    "\n",
    "Fort motor company produces hybrid car. The company investigated its average life time of engine and transimission combined and found that average life time is 120,000km and standard deviation was 10,000km. \n",
    "\n",
    "Then, the Fort wants to provide a guarantee service package providing free replacement of engine and transimission if it fails before reaching 100,000km. \n",
    "\n",
    "So, the Fort company marketing team now wants to know the probability that the engine and transmission will last less than 100,000km.\n",
    "\n",
    "1. [code]What is the probability that the engine and transmission will last less than 100,000km?(1pt)\n",
    "2. [explain]If the budget they allocated to replace failed engine and transmission for free is $ 600,000,000, their annual production capacity is 5,000,000 cars, and replacement cost per car is estimated to be $5,000, then do you think that the Fort can promote this new service promotion? Explain why with specific numbers at your hand.(1pt)"
   ]
  },
  {
   "cell_type": "code",
   "execution_count": 18,
   "metadata": {},
   "outputs": [
    {
     "data": {
      "text/plain": [
       "0.02275013194817921"
      ]
     },
     "execution_count": 18,
     "metadata": {},
     "output_type": "execute_result"
    }
   ],
   "source": [
    "m=120000\n",
    "sd=10000\n",
    "x=100000\n",
    "nmdist=stat.NormalDist(m,sd)\n",
    "nmdist.cdf(x)"
   ]
  },
  {
   "cell_type": "code",
   "execution_count": 12,
   "metadata": {},
   "outputs": [
    {
     "data": {
      "text/plain": [
       "568750000.0"
      ]
     },
     "execution_count": 12,
     "metadata": {},
     "output_type": "execute_result"
    }
   ],
   "source": [
    "5000000*0.02275*5000"
   ]
  },
  {
   "attachments": {},
   "cell_type": "markdown",
   "metadata": {},
   "source": [
    "**Question4.**\n",
    "\n",
    "Continued from the question3.\n",
    "\n",
    "[code]Now the Fort motor company realized that they have to reduce the allocated budget for this promotion. Now their new allocated budget for the free replacement was adjusted to $200,000,000. Then, how much of the distance they should gaurantee for the free replacement promotion given the reduced allocated budget? (Cutoff all decimal values.)(3pt)"
   ]
  },
  {
   "cell_type": "code",
   "execution_count": 21,
   "metadata": {},
   "outputs": [
    {
     "data": {
      "text/plain": [
       "95910.84454184539"
      ]
     },
     "execution_count": 21,
     "metadata": {},
     "output_type": "execute_result"
    }
   ],
   "source": [
    "m=120000\n",
    "sd=10000\n",
    "p=0.008 # p was calculated: 200000000/5000/5000000\n",
    "nmdist=stat.NormalDist(m,sd)\n",
    "nmdist.inv_cdf(p)"
   ]
  },
  {
   "attachments": {},
   "cell_type": "markdown",
   "metadata": {},
   "source": [
    "**Question5**\n",
    "\n",
    "Cell phone manufacturor Aplus recently released new Aphone 15. But it was harshly criticised for the technical failure as there were multiple consumer report saying Aphone 15 was overheated while using it. Usually, cell phone is considered to be overheated if its surface temperature exceeds 50 celsius degree while using it with more than 80% of its memory capacity. \n",
    "\n",
    "So, they decided to implement the internal investigation. They selected 100 Aphone 15 out of 500 Aphone 15 produced in their factories so far.  \n",
    "\n",
    "1. [explain]What is population here for the internal investigation?(0.3pt)\n",
    "2. [explain]What is parameter here for the internal investigation?(0.2pt)\n",
    "3. [code]Load the population data table into your python environment.(0.5pt)\n",
    "4. [code]Do the random sampling as much as 100 observations.(0.5pt)\n",
    "5. [code]Calculate your sample statistics of mean.(0.5pt)\n",
    "6. [code]Calculate your sample statistics of standard deviation(0.5pt)"
   ]
  },
  {
   "cell_type": "code",
   "execution_count": 33,
   "metadata": {},
   "outputs": [
    {
     "data": {
      "text/plain": [
       "Unnamed: 0    236.380000\n",
       "heat           44.785348\n",
       "dtype: float64"
      ]
     },
     "execution_count": 33,
     "metadata": {},
     "output_type": "execute_result"
    }
   ],
   "source": [
    "dt_aphone=pd.read_csv(\"aphone.csv\")\n",
    "dt_aphone.sample(100).mean()"
   ]
  },
  {
   "attachments": {},
   "cell_type": "markdown",
   "metadata": {},
   "source": [
    "**Question6**\n",
    "\n",
    "Aplus wanted to recover its consumer trust by initiating new promotion campaign. The marketing team advertised that the company will payback $1,000 if their Aphone 15 is overheated, exceeding 50 C. \n",
    "1. [code]What is the probability that the Aphone 15 will be over heated exceeding 50 C? (2pt)\n",
    "2. [explain]If they will sell 5,000 Aphone 15 in the next one month of period, then how much should they reserve to provide payback to their customers who got Aphone overheated?(3pt)"
   ]
  },
  {
   "cell_type": "code",
   "execution_count": 39,
   "metadata": {},
   "outputs": [
    {
     "data": {
      "text/plain": [
       "0.004249455934601132"
      ]
     },
     "execution_count": 39,
     "metadata": {},
     "output_type": "execute_result"
    }
   ],
   "source": [
    "m=45\n",
    "sd=1.9\n",
    "x=50\n",
    "nmdist=stat.NormalDist(m,sd)\n",
    "1-nmdist.cdf(x)"
   ]
  }
 ],
 "metadata": {
  "kernelspec": {
   "display_name": ".venv",
   "language": "python",
   "name": "python3"
  },
  "language_info": {
   "codemirror_mode": {
    "name": "ipython",
    "version": 3
   },
   "file_extension": ".py",
   "mimetype": "text/x-python",
   "name": "python",
   "nbconvert_exporter": "python",
   "pygments_lexer": "ipython3",
   "version": "3.11.0"
  },
  "orig_nbformat": 4
 },
 "nbformat": 4,
 "nbformat_minor": 2
}
