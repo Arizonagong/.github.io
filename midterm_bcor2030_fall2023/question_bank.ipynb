{
 "cells": [
  {
   "cell_type": "code",
   "execution_count": null,
   "metadata": {},
   "outputs": [],
   "source": []
  },
  {
   "attachments": {},
   "cell_type": "markdown",
   "metadata": {},
   "source": [
    "The University of Utah Hospital has an insurance to avoid a risk of paying huge money for the heart surgery failure, that is called hospital liability insurance(HLI). From the past lawsuit cases, the hospital knows that they have to pay $2,000,000 per the failed heart surgery without the HLI. \n",
    "\n",
    "Their revenue gain from the heart surgery operation is $ 90,000 per surgery operation. Their cost of per heart surgery operation is $20,000 so the profit per surgery operation is $70,000. The annual subscription fee for the HLI is $4,000,000 and their annual number of heart surgery operation is 100.\n",
    "\n",
    "profit total: $70,000 x 100 = $ 7,000,000\n",
    "\n",
    "Now, the U of U Hospital records 98% success rate for its heart surgery. Then, \n",
    "\n",
    "1. What is the probability of making 25 correct answer out of 30 given quiz questions for this group?\n",
    "2. Draw a probability distribution plot of this case."
   ]
  }
 ],
 "metadata": {
  "language_info": {
   "name": "python"
  },
  "orig_nbformat": 4
 },
 "nbformat": 4,
 "nbformat_minor": 2
}
