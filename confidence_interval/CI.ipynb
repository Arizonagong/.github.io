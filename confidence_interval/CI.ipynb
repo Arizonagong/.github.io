{
 "cells": [
  {
   "attachments": {},
   "cell_type": "markdown",
   "metadata": {},
   "source": [
    "<span style=\"font-size:16px\">| BCOR2030, Fall 2023</span>\n",
    "<br>\n",
    "<span style=\"font-size:45px\"><b>Confidence Interval</b></span><img style=\"float: right;padding-right:50px;\" src=\"https://eccles.utah.edu/wp-content/themes/wptheme-avada5/logos/eccles_logo_footer.png\" width=\"300\">\n",
    "<br>\n",
    "<br>\n",
    "<span style=\"font-size:18px; float:left;\"><b>By Prof. Byoung-gyu Gong     </b></span>\n",
    "<hr>\n",
    "<br>\n",
    "<br>\n",
    "<br>\n",
    "<span style=\"font-size:16px\">Random sampling in python can be easily achieved by using 'pandas' library.</span>\n",
    "\n",
    "<b>pip install numpy</b> - <span style=\"color:red\"><i>High performing number manipulation library</i></span>\n",
    "<br>\n",
    "<b>pip install pandas</b> - <span style=\"color:red\"><i>Data table manipulation library</i></span>\n",
    "<br>\n",
    "<b>pip install scipy</b> - <span style=\"color:red\"><i>Statistics library</i></span>"
   ]
  },
  {
   "cell_type": "code",
   "execution_count": 2,
   "metadata": {},
   "outputs": [],
   "source": [
    "import numpy as np\n",
    "import pandas as pd\n",
    "import scipy.stats as st"
   ]
  },
  {
   "attachments": {},
   "cell_type": "markdown",
   "metadata": {},
   "source": [
    "## 1. How to load your data using pandas\n",
    "<hr style=\"border-top: 0.1px dotted navy\" />\n",
    "<span style=\"font-size:16px\">To load your data set in the csv format, you can use 'read_csv()' function in the pandas library. Before loading your data set, you should drag and drop the data file into your vscode project folder. Unless you move it to the project folder, the function will not be able to locate where your file is.</span>"
   ]
  },
  {
   "cell_type": "code",
   "execution_count": 2,
   "metadata": {},
   "outputs": [
    {
     "data": {
      "text/html": [
       "<div>\n",
       "<style scoped>\n",
       "    .dataframe tbody tr th:only-of-type {\n",
       "        vertical-align: middle;\n",
       "    }\n",
       "\n",
       "    .dataframe tbody tr th {\n",
       "        vertical-align: top;\n",
       "    }\n",
       "\n",
       "    .dataframe thead th {\n",
       "        text-align: right;\n",
       "    }\n",
       "</style>\n",
       "<table border=\"1\" class=\"dataframe\">\n",
       "  <thead>\n",
       "    <tr style=\"text-align: right;\">\n",
       "      <th></th>\n",
       "      <th>Manager</th>\n",
       "      <th>Annual Salary</th>\n",
       "    </tr>\n",
       "  </thead>\n",
       "  <tbody>\n",
       "    <tr>\n",
       "      <th>count</th>\n",
       "      <td>2500.00000</td>\n",
       "      <td>2500.000000</td>\n",
       "    </tr>\n",
       "    <tr>\n",
       "      <th>mean</th>\n",
       "      <td>1250.50000</td>\n",
       "      <td>51800.000000</td>\n",
       "    </tr>\n",
       "    <tr>\n",
       "      <th>std</th>\n",
       "      <td>721.83216</td>\n",
       "      <td>4000.000067</td>\n",
       "    </tr>\n",
       "    <tr>\n",
       "      <th>min</th>\n",
       "      <td>1.00000</td>\n",
       "      <td>40990.300000</td>\n",
       "    </tr>\n",
       "    <tr>\n",
       "      <th>25%</th>\n",
       "      <td>625.75000</td>\n",
       "      <td>49036.500000</td>\n",
       "    </tr>\n",
       "    <tr>\n",
       "      <th>50%</th>\n",
       "      <td>1250.50000</td>\n",
       "      <td>51837.300000</td>\n",
       "    </tr>\n",
       "    <tr>\n",
       "      <th>75%</th>\n",
       "      <td>1875.25000</td>\n",
       "      <td>54577.675000</td>\n",
       "    </tr>\n",
       "    <tr>\n",
       "      <th>max</th>\n",
       "      <td>2500.00000</td>\n",
       "      <td>63538.700000</td>\n",
       "    </tr>\n",
       "  </tbody>\n",
       "</table>\n",
       "</div>"
      ],
      "text/plain": [
       "          Manager  Annual Salary\n",
       "count  2500.00000    2500.000000\n",
       "mean   1250.50000   51800.000000\n",
       "std     721.83216    4000.000067\n",
       "min       1.00000   40990.300000\n",
       "25%     625.75000   49036.500000\n",
       "50%    1250.50000   51837.300000\n",
       "75%    1875.25000   54577.675000\n",
       "max    2500.00000   63538.700000"
      ]
     },
     "execution_count": 2,
     "metadata": {},
     "output_type": "execute_result"
    }
   ],
   "source": [
    "# Load your data set\n",
    "df=pd.read_csv('EAI.csv')"
   ]
  },
  {
   "attachments": {},
   "cell_type": "markdown",
   "metadata": {},
   "source": [
    "## 2. Explore your data set.\n",
    "<hr style=\"border-top: 0.1px dotted navy\" />\n",
    "<span style=\"font-size:16px\">Functions such as <b>'type()'</b> and <b>'describe()'</b> can give you a brief and easy summary look of your data.</span>"
   ]
  },
  {
   "cell_type": "code",
   "execution_count": null,
   "metadata": {},
   "outputs": [],
   "source": [
    "df.describe()\n",
    "# Population parameter(average annual salary) is 51800."
   ]
  },
  {
   "attachments": {},
   "cell_type": "markdown",
   "metadata": {},
   "source": [
    "\n",
    "## 3. Random Sampling in pandas\n",
    "<hr style=\"border-top: 0.1px dotted navy\" />\n",
    "<span style=\"font-size:16px\">By using <b>'sample()'</b> function, we can randomly select specific number of rows or observations in the data table. The 'sample()' function does not select the same rows in default setting, 'replace=False'. You can specify the number of samples you'd like to select by number or fraction. </span>"
   ]
  },
  {
   "cell_type": "code",
   "execution_count": 5,
   "metadata": {},
   "outputs": [
    {
     "data": {
      "text/html": [
       "<div>\n",
       "<style scoped>\n",
       "    .dataframe tbody tr th:only-of-type {\n",
       "        vertical-align: middle;\n",
       "    }\n",
       "\n",
       "    .dataframe tbody tr th {\n",
       "        vertical-align: top;\n",
       "    }\n",
       "\n",
       "    .dataframe thead th {\n",
       "        text-align: right;\n",
       "    }\n",
       "</style>\n",
       "<table border=\"1\" class=\"dataframe\">\n",
       "  <thead>\n",
       "    <tr style=\"text-align: right;\">\n",
       "      <th></th>\n",
       "      <th>Manager</th>\n",
       "      <th>Annual Salary</th>\n",
       "    </tr>\n",
       "  </thead>\n",
       "  <tbody>\n",
       "    <tr>\n",
       "      <th>count</th>\n",
       "      <td>50.000000</td>\n",
       "      <td>50.000000</td>\n",
       "    </tr>\n",
       "    <tr>\n",
       "      <th>mean</th>\n",
       "      <td>1370.500000</td>\n",
       "      <td>52587.472000</td>\n",
       "    </tr>\n",
       "    <tr>\n",
       "      <th>std</th>\n",
       "      <td>636.541524</td>\n",
       "      <td>4472.632942</td>\n",
       "    </tr>\n",
       "    <tr>\n",
       "      <th>min</th>\n",
       "      <td>24.000000</td>\n",
       "      <td>41187.400000</td>\n",
       "    </tr>\n",
       "    <tr>\n",
       "      <th>25%</th>\n",
       "      <td>882.500000</td>\n",
       "      <td>49604.475000</td>\n",
       "    </tr>\n",
       "    <tr>\n",
       "      <th>50%</th>\n",
       "      <td>1376.500000</td>\n",
       "      <td>52013.450000</td>\n",
       "    </tr>\n",
       "    <tr>\n",
       "      <th>75%</th>\n",
       "      <td>1883.750000</td>\n",
       "      <td>54489.275000</td>\n",
       "    </tr>\n",
       "    <tr>\n",
       "      <th>max</th>\n",
       "      <td>2407.000000</td>\n",
       "      <td>62281.100000</td>\n",
       "    </tr>\n",
       "  </tbody>\n",
       "</table>\n",
       "</div>"
      ],
      "text/plain": [
       "           Manager  Annual Salary\n",
       "count    50.000000      50.000000\n",
       "mean   1370.500000   52587.472000\n",
       "std     636.541524    4472.632942\n",
       "min      24.000000   41187.400000\n",
       "25%     882.500000   49604.475000\n",
       "50%    1376.500000   52013.450000\n",
       "75%    1883.750000   54489.275000\n",
       "max    2407.000000   62281.100000"
      ]
     },
     "execution_count": 5,
     "metadata": {},
     "output_type": "execute_result"
    }
   ],
   "source": [
    "# Random sampling\n",
    "n=50\n",
    "df_sampl=df.sample(n)\n",
    "df_sampl.describe()\n",
    "# Your sample statistics(average of annual salary) is 52587."
   ]
  },
  {
   "attachments": {},
   "cell_type": "markdown",
   "metadata": {},
   "source": [
    "## 4. Set Your Input Values to Calculate CI.\n",
    "<hr style=\"border-top: 0.1px dotted navy\" />"
   ]
  },
  {
   "cell_type": "code",
   "execution_count": 7,
   "metadata": {},
   "outputs": [
    {
     "name": "stdout",
     "output_type": "stream",
     "text": [
      "sample mean= 52587.472 \n",
      "sample standard deviation= 4472.63294232279 \n",
      "your confidence level= 0.95 \n",
      "sample size(n-1)= 49\n"
     ]
    }
   ],
   "source": [
    "# Create key input indicators\n",
    "## sample mean\n",
    "m=df_sampl[\"Annual Salary\"].mean()\n",
    "## sample standard deviation\n",
    "sd=df_sampl[\"Annual Salary\"].std()\n",
    "## confidence level\n",
    "cf=0.95\n",
    "## your degree of freedom(sample size)\n",
    "df_n=n-1\n",
    "\n",
    "print('sample mean=',m,'\\n'\n",
    "      'sample standard deviation=',sd,'\\n'\n",
    "      'your confidence level=',cf,'\\n'\n",
    "      'sample size(n-1)=',df_n)"
   ]
  },
  {
   "attachments": {},
   "cell_type": "markdown",
   "metadata": {},
   "source": [
    "## 6. Calculate T value\n",
    "<hr style=\"border-top: 0.1px dotted navy\" />"
   ]
  },
  {
   "cell_type": "code",
   "execution_count": 8,
   "metadata": {},
   "outputs": [
    {
     "name": "stdout",
     "output_type": "stream",
     "text": [
      "2.009575234489209\n"
     ]
    }
   ],
   "source": [
    "# T value\n",
    "\n",
    "# First calculate t value given your confidence level\n",
    "# abs: absolute value\n",
    "# ppf: calculate cumulative distribution\n",
    "# 1-cf/2: left and right tail of the t distribution\n",
    "\n",
    "t_crit=np.abs(st.t.ppf((1-cf)/2, n-1))\n",
    "print(t_crit)"
   ]
  },
  {
   "attachments": {},
   "cell_type": "markdown",
   "metadata": {},
   "source": [
    "## 7. Calculate Your Margin of Error (Interval Estimation)\n",
    "<hr style=\"border-top: 0.1px dotted navy\" />"
   ]
  },
  {
   "cell_type": "code",
   "execution_count": 9,
   "metadata": {},
   "outputs": [
    {
     "data": {
      "text/plain": [
       "(51316.36378367514, 53858.580216324866)"
      ]
     },
     "execution_count": 9,
     "metadata": {},
     "output_type": "execute_result"
    }
   ],
   "source": [
    "# margin of error\n",
    "(m-sd*t_crit/np.sqrt(n), m+sd*t_crit/np.sqrt(n))"
   ]
  },
  {
   "attachments": {},
   "cell_type": "markdown",
   "metadata": {},
   "source": [
    "## 8. Interpret Your Output\n",
    "<hr style=\"border-top: 0.1px dotted navy\" />"
   ]
  },
  {
   "attachments": {},
   "cell_type": "markdown",
   "metadata": {},
   "source": [
    "Now, I am 95% sure that the population mean(average annual salary of the managers) is located inside the range of 51316 and 53858."
   ]
  },
  {
   "cell_type": "code",
   "execution_count": 5,
   "metadata": {},
   "outputs": [
    {
     "name": "stdout",
     "output_type": "stream",
     "text": [
      "2.262157162740991\n"
     ]
    },
    {
     "data": {
      "text/plain": [
       "(5.642321547023714, 6.357678452976286)"
      ]
     },
     "execution_count": 5,
     "metadata": {},
     "output_type": "execute_result"
    }
   ],
   "source": [
    "n=10\n",
    "m=6\n",
    "sd=0.5\n",
    "cf=0.95\n",
    "degf=n-1\n",
    "\n",
    "t_crit=np.abs(st.t.ppf((1-cf)/2, n-1))\n",
    "print(t_crit)\n",
    "(m-sd*t_crit/np.sqrt(n), m+sd*t_crit/np.sqrt(n))"
   ]
  }
 ],
 "metadata": {
  "kernelspec": {
   "display_name": ".venv",
   "language": "python",
   "name": "python3"
  },
  "language_info": {
   "codemirror_mode": {
    "name": "ipython",
    "version": 3
   },
   "file_extension": ".py",
   "mimetype": "text/x-python",
   "name": "python",
   "nbconvert_exporter": "python",
   "pygments_lexer": "ipython3",
   "version": "3.11.0"
  },
  "orig_nbformat": 4
 },
 "nbformat": 4,
 "nbformat_minor": 2
}
