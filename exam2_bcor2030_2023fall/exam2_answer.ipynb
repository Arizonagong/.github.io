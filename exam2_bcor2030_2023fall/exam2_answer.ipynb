{
 "cells": [
  {
   "attachments": {},
   "cell_type": "markdown",
   "metadata": {},
   "source": [
    "<span style=\"font-size:16px\">| BCOR2030, Fall 2023</span>\n",
    "<br>\n",
    "<span style=\"font-size:45px\"><b>EXAM2: Answers</b></span><img style=\"float: right;padding-right:50px;\" src=\"https://eccles.utah.edu/wp-content/themes/wptheme-avada5/logos/eccles_logo_footer.png\" width=\"300\">\n",
    "<br>\n",
    "<br>\n",
    "<span style=\"font-size:18px; float:left;\"><b>By Prof. Byoung-gyu Gong     </b></span>\n",
    "<hr>\n",
    "<br>\n",
    "<br>\n",
    "<br>"
   ]
  },
  {
   "cell_type": "code",
   "execution_count": 1,
   "metadata": {},
   "outputs": [],
   "source": [
    "import numpy as np\n",
    "import pandas as pd\n",
    "import scipy.stats as st\n",
    "from scipy.stats import t"
   ]
  },
  {
   "cell_type": "code",
   "execution_count": null,
   "metadata": {},
   "outputs": [],
   "source": [
    "# HINTS\n",
    "df=pd.read_csv('XXX.csv')\n",
    "m=df[\"COL_NAME\"].mean()\n",
    "sd=df[\"COL_NAME\"].std()"
   ]
  },
  {
   "attachments": {},
   "cell_type": "markdown",
   "metadata": {},
   "source": [
    "## 1. Health Care Company[5pts]\n",
    "<hr style=\"border-top: 0.1px dotted navy\" />\n",
    "\n",
    "<span style=\"font-size:16px\">Data file: \"reduc_fbs.csv\"</span>\n",
    "\n",
    "<span style=\"font-size:18px\">The health care company \"New Genes\" insisted that they developed new medicine named \"FreeSugar\" that can reduce fasting blood sugar level (if it is too much high, then it is prone to get diabetes.) almost 10%. So, the US Food and Drug Administration(FDA) decided to test their claim with a scientific experienment. They randomly sampled 300 patients and medicated newly developed \"FreeSugar\" medicine. Load the data file, calculate mean, and standard deviation. Then, given this scenario, please respond to the following questions:</span>\n",
    "\n",
    "<span style=\"font-size:16px\">1.1. [EXPLAIN] What is null and alternative hypothesis?[1.5pts]</span>\n",
    "\n",
    "<span style=\"font-size:14px; color:blue\">Lower Tail Testing</span>\n",
    "\n",
    "<span style=\"font-size:14px; color:blue\">H0: mu >= 0.1(10%)</span>\n",
    "<span style=\"font-size:14px; color:blue\">-> You should assume that the company is not guilty until you will find significant evidence to reject it. It is similar to the courtroom case.</span>\n",
    "\n",
    "<span style=\"font-size:14px; color:blue\">HA: mu < 0.1(10%) </span>\n",
    "\n",
    "<span style=\"font-size:16px\">1.2. [EXPLAIN] What is the type one error in this case? and why it is a serious matter?[1.5pts]</span>\n",
    "\n",
    "<span style=\"font-size:14px; color:blue\">Type one error here is rejecting null hypothesis insisting that the mean reduction rate is equal or more than 10%, although it is actually true. It will be a serious error to commit, as such a wrong accusation against the company can reduce the social trust and even kill the business. = court room case. Our best interest according to the type one error is avoiding false accusation against those who are not guilty.</span>\n",
    "\n",
    "<span style=\"font-size:16px\">1.3. [CODE] What is t-value and p-value of sample mean?[1pts]</span>\n",
    "<span style=\"font-size:14px; color:blue\">[find at the code bellow]</span>\n",
    "\n",
    "<span style=\"font-size:16px\">1.4. [EXPLAIN] What is your conclusion and why?[1pts]</span>\n",
    "\n",
    "<span style=\"font-size:14px; color:blue\">For the lower tail testing, the t value of sample mean should be less than the t value of the significant level. So, I will reject the null hypothesis because the t value of your sample mean is much less than the t value of the significant level. Also, the p-value approximates to zero, which means that the probability to see that your sample mean is equal or less than 0.08 is almost zero if your null hypothesis is really true and you did a perfect random sampling. So you are supposed to reject your null hypothesis.</span>\n",
    "\n",
    "<span style=\"font-size:14px; color:blue\">It means that I will reject the hypothesis that the \"FreeSugar\" can reduce fasting blood suger level equal to or more than 10%. The business consequence will be huge, as the NewGenes' claim was proved not to be true. They might be punished for their false claim, and consumer trust and brand reputation will be negatively impacted. </span>\n",
    "\n"
   ]
  },
  {
   "cell_type": "code",
   "execution_count": 17,
   "metadata": {},
   "outputs": [
    {
     "name": "stdout",
     "output_type": "stream",
     "text": [
      "sample mean:  0.08026976510851867\n",
      "sample sd:  0.01233021797754662\n",
      "sample n:  300\n",
      "T-value of sample mean:  -27.715\n",
      "P-value of sample mean:  0.0\n",
      "T-value of sig:  -1.65\n",
      "P-value of sig: 5.0%\n"
     ]
    }
   ],
   "source": [
    "# Load your data set\n",
    "df=pd.read_csv('reduc_fbs.csv')\n",
    "\n",
    "# create input values\n",
    "hv = 0.1\n",
    "n=len(df)\n",
    "m=df[\"reduced_fbs_rate\"].mean()\n",
    "## sample standard deviation\n",
    "sd=df[\"reduced_fbs_rate\"].std()\n",
    "## your degree of freedom(sample size)\n",
    "degf=n-1\n",
    "sig=0.05 \n",
    "t_ppf=st.t.ppf(sig, degf)\n",
    "ts=(m-hv)/(sd/np.sqrt(n))\n",
    "t_cdf=st.t.cdf(ts, degf)\n",
    "\n",
    "print(\"sample mean: \", m)\n",
    "print(\"sample sd: \", sd)\n",
    "print(\"sample n: \", n)\n",
    "print(\"T-value of sample mean: \", round(ts,3)) #\n",
    "print(\"P-value of sample mean: \", round(t_cdf,3))\n",
    "print(\"T-value of sig: \", round(t_ppf,2))\n",
    "print(f\"P-value of sig: {sig*100}%\")\n"
   ]
  },
  {
   "attachments": {},
   "cell_type": "markdown",
   "metadata": {},
   "source": [
    "## 2. Gaming Company1[5pts]\n",
    "<hr style=\"border-top: 0.1px dotted navy\" />\n",
    "\n",
    "<span style=\"font-size:16px\">Data file: \"apt.csv\"</span>\n",
    "\n",
    "<span style=\"font-size:18px\">The game development company MCSoft is in a crisis as its quarterly revenue gain was decreased dramatically by 45% comparing with the last quarter. Such a dramatic reduction in the revenue gain increased woes of the stockholders and investors, dropping its stock price almost 25% in a day. The business leader group of the MCSoft had to relieve the worries and concern of the investors. </span>\n",
    "\n",
    "<span style=\"font-size:18px\">So, the game development team1 decided to open up the beta test result of the new game at its pre-release version. The MCSoft claimed that the new game called \"Origin2\" in its beta test achieved average of 20 hrs of active playing time per month (APT), the average APT of the \"Origin1\" is 18 hrs. It is known that every 0.01 hr incease in APT, per user revenue gain increases almost $10 per month. And 2 hrs of increase in APT looked enough improvement to relieve the investors' woes. </span>\n",
    "\n",
    "<span style=\"font-size:18px\">Then, the ShinWan Investment Bank, one of the largest investor of the MCSoft, decided to test their claim in a scientific way before investing additional $ 100,000,000 investment money to this company. They randomly sampled 500 players of the \"Origin2\" beta test version and measured their active playing time. Load the data file, calculate mean, and standard deviation. Then, given this scenario, please respond to the following questions:</span>\n",
    "\n",
    "<span style=\"font-size:16px\">2.1. [EXPLAIN] What is null and alternative hypothesis?[1.5pts]</span>\n",
    "\n",
    "<span style=\"font-size:14px; color:blue\">Upper Tail Testing</span>\n",
    "\n",
    "<span style=\"font-size:14px; color:blue\">H0: mu =< 20 hrs(apt) -> First, as an investor, your priority will be at whatever cost you will avoid wasting your money and minimizing a risk of investment failure. So, you should set that there is no technological or business breakthrough until you will find a significant evidence that the new product or service outperforms the previous version.</span>\n",
    "<span style=\"font-size:14px; color:blue\">HA: mu > 20 hrs (apt) -> Second, your alternative hypothesis is based on the claim of those who invented new service or product.</span>\n",
    "\n",
    "<span style=\"font-size:16px\">2.2. [EXPLAIN] What is the type one error in this case? and why it is a serious matter?[1.5pts]</span>\n",
    "<span style=\"font-size:14px; color:blue\">Type one error here is rejecting null hypothesis claiming that the apt is less or equal to 20 hrs although it is actually true, which means there is no significant product improvement. In such a case, the ShinWan investment bank will invest $100,000,000 to this company for nothing, and bring them a huge risk of failure. </span>\n",
    "\n",
    "<span style=\"font-size:16px\">2.3. [CODE] What is t-value and p-value of sample mean?[1pts]</span>\n",
    "\n",
    "\n",
    "<span style=\"font-size:16px\">2.4. [EXPLAIN] What is your conclusion?[1pts]</span>\n",
    "<span style=\"font-size:14px; color:blue\">For the upper tail testing, the t value of sample mean should exceed the t value of the significant level. So, I will not reject the null hypothesis because the t value of sample mean here is much less than the t value of the significant level. Although the p-value of the sample mean here approximates to zero, which means that the probability to see that your sample mean is equal or less than 18.04 is almost zero if your null hypothesis is really true and you did a perfect random sampling, we are doing upper tail testing not the lower tail testing. Thus, that p values does not affect to our decision and you are supposed not to reject your null hypothesis.</span>\n",
    "\n",
    "<span style=\"font-size:14px; color:blue\">It means that I will stick to the hypothesis insisting that the apt is equal or less than 20 hrs for the new game \"Origin2\". Accordingly, the ShinWan Investment Bank will not invest in the MCSoft. </span>"
   ]
  },
  {
   "cell_type": "code",
   "execution_count": 9,
   "metadata": {},
   "outputs": [
    {
     "name": "stdout",
     "output_type": "stream",
     "text": [
      "sample mean:  18.04232274884967\n",
      "sample sd:  0.5063846394433235\n",
      "sample n:  500\n",
      "T-value of sample mean:  -86.446\n",
      "P-value of sample mean:  0.0\n",
      "T-value of sig:  1.65\n",
      "P-value of sig: 5.0%\n"
     ]
    }
   ],
   "source": [
    "# Load your data set\n",
    "df=pd.read_csv('apt.csv')\n",
    "\n",
    "# create input values\n",
    "hv = 20\n",
    "n=len(df)\n",
    "m=df[\"apt\"].mean()\n",
    "## sample standard deviation\n",
    "sd=df[\"apt\"].std()\n",
    "## your degree of freedom(sample size)\n",
    "degf=n-1\n",
    "sig=0.05 \n",
    "t_ppf=abs(st.t.ppf(sig, degf))\n",
    "ts=(m-hv)/(sd/np.sqrt(n))\n",
    "t_cdf=st.t.cdf(ts, degf)\n",
    "\n",
    "print(\"sample mean: \", m)\n",
    "print(\"sample sd: \", sd)\n",
    "print(\"sample n: \", n)\n",
    "print(\"T-value of sample mean: \", round(ts,3)) #\n",
    "print(\"P-value of sample mean: \", round(t_cdf,3))\n",
    "print(\"T-value of sig: \", round(t_ppf,2))\n",
    "print(f\"P-value of sig: {sig*100}%\")"
   ]
  },
  {
   "attachments": {},
   "cell_type": "markdown",
   "metadata": {},
   "source": [
    "## 3. Gaming Company2[5pts]\n",
    "<hr style=\"border-top: 0.1px dotted navy\" />\n",
    "\n",
    "<span style=\"font-size:16px\">Data file: \"prob_item.csv\"</span>\n",
    "\n",
    "<span style=\"font-size:18px\">The game development company KoKoaGames earned a huge revenue gain by selling game items that is randomly assigned with a certain probability. It is called probabilistic game items. To get the special game items, users should pay as much as $5 for each trial for the random roulette. But, some game users suspected that the KoKoaGames manipulated the probability of the probabilistic game items, and filed a lawsuit against the company requesting to publish the probability of each random game items. The court ordered to publish the probability of each item. </span>\n",
    "\n",
    "<span style=\"font-size:18px\">KoKoaGames announced that the probability of popular game item called \"Sword of Knights\" is 2%, which means that once the users try the random roulette 50 times, then they can get the \"Sword of Knights\" just one time. The estimated cost of the \"Sword of Knights\" is then $250. But, in the users community, many users still didn't trust the announcement of the game company, and requested open testing of their self-claimed probability of the item.</span>\n",
    "\n",
    "<span style=\"font-size:18px\">So, with a lot of press reporters and game users attended, KoKoaGames held an event to simulate random roulette for the \"Sword of Knights\". In this open event, they randomly created 300 mock accounts and alias in the game, and ran the random roulette for each alias. Load the data file, calculate mean, and standard deviation.</span>\n",
    "\n",
    "<span style=\"font-size:16px\">3.1. [EXPLAIN] What is null and alternative hypothesis?[1.5pts]</span>\n",
    "\n",
    "<span style=\"font-size:14px; color:blue\">Lower Tail Testing</span>\n",
    "\n",
    "<span style=\"font-size:14px; color:blue\">H0: mu >= 0.02(2%) -> Again, another courtroom case type question. You are supposed to assume that KoKoaGames is not guilty by accepting their self-claim is true until you will get a significant counter evidence.</span>\n",
    "<span style=\"font-size:14px; color:blue\">HA: mu < 0.02(2%)</span>\n",
    "\n",
    "<span style=\"font-size:16px\">3.2. [EXPLAIN] What is the type one error in this case? and why it is a serious matter?[1.5pts]</span>\n",
    "\n",
    "<span style=\"font-size:14px; color:blue\">Type one error means rejecting the null hypothesis, assuming that the real probability of getting \"Sword of Knights\" is equal or more than 2%, even though it is actually true. In such a case, the consumer trust and brand reputation will be seriously damaged and the KoKoagames will lose huge revenue gain in the worst case though they are not guilty.</span>\n",
    "\n",
    "<span style=\"font-size:16px\">3.3. [CODE] What is t-value and p-value of sample mean?[1pts] You should calculate sample mean and standard deviation.</span>\n",
    "\n",
    "<span style=\"font-size:16px\">3.4. [EXPLAIN] What is your conclusion?[1pts]</span>\n",
    "\n",
    "<span style=\"font-size:14px; color:blue\">For the lower tail testing, the t value of sample mean should be less than the t value of the significant level. So, I will not reject the null hypothesis because the t value of your sample mean is more than the t value of the significant level. Also, the p-value approximates to 7%, which means that the probability to see that your sample mean is equal or less than 7%, if your null hypothesis is really true and you did a perfect random sampling. It is more than 5% of p value of significant level. So you are supposed not to reject your null hypothesis.</span>\n",
    "\n",
    "<span style=\"font-size:14px; color:blue\">We will not reject the null hypotheiss, which means that the probability of selecting the Sword of Knights is equal or more than 2%. So, it will result in recovering a trust of the users and general publics for the Kokoagames</span>"
   ]
  },
  {
   "cell_type": "code",
   "execution_count": 11,
   "metadata": {},
   "outputs": [
    {
     "name": "stdout",
     "output_type": "stream",
     "text": [
      "sample mean:  0.01965767383891368\n",
      "sample sd:  0.004086923479080712\n",
      "sample n:  300\n",
      "T-value of sample mean:  -1.451\n",
      "P-value of sample mean:  7.394 %\n",
      "T-value of sig:  -1.65\n",
      "P-value of sig: 5.0%\n"
     ]
    }
   ],
   "source": [
    "# Load your data set\n",
    "df=pd.read_csv('prob_item.csv')\n",
    "\n",
    "# create input values\n",
    "hv = 0.02\n",
    "n=len(df)\n",
    "m=df[\"prob_item\"].mean()\n",
    "## sample standard deviation\n",
    "sd=df[\"prob_item\"].std()\n",
    "## your degree of freedom(sample size)\n",
    "degf=n-1\n",
    "sig=0.05 \n",
    "t_ppf=st.t.ppf(sig, degf)\n",
    "ts=(m-hv)/(sd/np.sqrt(n))\n",
    "t_cdf=st.t.cdf(ts, degf)\n",
    "\n",
    "print(\"sample mean: \", m)\n",
    "print(\"sample sd: \", sd)\n",
    "print(\"sample n: \", n)\n",
    "print(\"T-value of sample mean: \", round(ts,3)) #\n",
    "print(\"P-value of sample mean: \", round(t_cdf*100,3),\"%\")\n",
    "print(\"T-value of sig: \", round(t_ppf,2))\n",
    "print(f\"P-value of sig: {sig*100}%\")"
   ]
  },
  {
   "attachments": {},
   "cell_type": "markdown",
   "metadata": {},
   "source": [
    "## 4. People Analytics[10pts]\n",
    "<hr style=\"border-top: 0.1px dotted navy\" />\n",
    "<span style=\"font-size:16px\">Data file: \"worktime.csv\"</span>\n",
    "\n",
    "<span style=\"font-size:18px\">A Human Resource Management(HRM) team in the HanKook Energy Solution wanted to promote a well-being of their employees to improve rentention rate. The HRM team saw that weekly working time must be the significant indicator measuring a well-being of their employees and predicting future retention rate. </span>\n",
    "\n",
    "<span style=\"font-size:18px\">Thus, they decided to survey all of their staff members asking a question of \"How long do you work in a week?\" </span>\n",
    "<span style=\"font-size:18px\">The survey result of the population is in the data file called \"workingtime.csv\".</span> \n",
    "<span style=\"font-size:18px\">Load the data file, calculate mean and standard deviation.</span>\n",
    "\n",
    "<span style=\"font-size:16px\">4.1. [CODE] What is t-value of your 95% confidence level?[1pts] Round upto 3 decimal point.</span>\n",
    "\n",
    "<span style=\"font-size:16px\">4.2. [CODE] What is margin of error?[1pts] Round upto 3 decimal point.</span>\n",
    "\n",
    "<span style=\"font-size:16px\">4.3. [EXPLANATION] Interpret your margin of error with a confidence level[2pts]</span>\n",
    "<span style=\"font-size:14px; color:blue\">I am 95% confident that the true population mean of the average working time of the employees will be located between 51 to 52.\n",
    "\n",
    "<span style=\"font-size:16px\">4.4. [EXPLANATION] If you'd like to suggest narrower range of all possible values(narrower margin of error), then what you should do?[2pts] </span><span style=\"font-size:14px; color:blue\">Lower down your confidence level.</span>\n",
    "\n",
    "<span style=\"font-size:16px\">4.5. [EXPLANATION] Please discuss why reporting internval estimation is a better choice than reporting point estimate in this case.[2pts] </span><span style=\"font-size:14px; color:blue\">If you use the point estimate, if you miss the exact population parameter with a small margin, then you will be considered to be wrong. But, if you use the interval estimate, if the real population parameter is located inside of the suggested margin of error, then you will be considered to be right. </span>\n",
    "\n",
    "<span style=\"font-size:16px\">4.6. [EXPLANATION] Why did you calculate the confidence interval though you have a population data at your hand? Why there is still uncertainty in your data set?[2pts] </span>\n",
    "<span style=\"font-size:14px; color:blue\">You should assume that your measuring tool is not perfect and consistent accross all respondents. So, you should assume that your population data set is not a perfect population. It is still sample, a subset of the real population. </span>"
   ]
  },
  {
   "cell_type": "code",
   "execution_count": 37,
   "metadata": {},
   "outputs": [
    {
     "name": "stdout",
     "output_type": "stream",
     "text": [
      "1.9639455694852126\n"
     ]
    }
   ],
   "source": [
    "# Load your data set\n",
    "df=pd.read_csv('worktime.csv')\n",
    "\n",
    "# create input values\n",
    "n=len(df)\n",
    "cf=0.95\n",
    "m=df[\"worktime\"].mean()\n",
    "## sample standard deviation\n",
    "sd=df[\"worktime\"].std()\n",
    "## your degree of freedom(sample size)\n",
    "degf=n-1\n",
    "\n",
    "t_crit=np.abs(st.t.ppf((1-cf)/2, n-1))\n",
    "print(t_crit)"
   ]
  },
  {
   "cell_type": "code",
   "execution_count": 38,
   "metadata": {},
   "outputs": [
    {
     "data": {
      "text/plain": [
       "(51.14356521349101, 52.2609659927247)"
      ]
     },
     "execution_count": 38,
     "metadata": {},
     "output_type": "execute_result"
    }
   ],
   "source": [
    "# margin of error\n",
    "(m-sd*t_crit/np.sqrt(n), m+sd*t_crit/np.sqrt(n))"
   ]
  }
 ],
 "metadata": {
  "kernelspec": {
   "display_name": ".venv",
   "language": "python",
   "name": "python3"
  },
  "language_info": {
   "codemirror_mode": {
    "name": "ipython",
    "version": 3
   },
   "file_extension": ".py",
   "mimetype": "text/x-python",
   "name": "python",
   "nbconvert_exporter": "python",
   "pygments_lexer": "ipython3",
   "version": "3.11.0"
  },
  "orig_nbformat": 4
 },
 "nbformat": 4,
 "nbformat_minor": 2
}
