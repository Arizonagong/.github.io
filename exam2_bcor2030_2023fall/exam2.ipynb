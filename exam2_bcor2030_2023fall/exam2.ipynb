{
 "cells": [
  {
   "attachments": {},
   "cell_type": "markdown",
   "metadata": {},
   "source": [
    "<span style=\"font-size:16px\">| BCOR2030, Fall 2023</span>\n",
    "<br>\n",
    "<span style=\"font-size:45px\"><b>EXAM2</b></span><img style=\"float: right;padding-right:50px;\" src=\"https://eccles.utah.edu/wp-content/themes/wptheme-avada5/logos/eccles_logo_footer.png\" width=\"300\">\n",
    "<br>\n",
    "<br>\n",
    "<span style=\"font-size:18px; float:left;\"><b>By Prof. Byoung-gyu Gong     </b></span>\n",
    "<hr>\n",
    "<br>\n",
    "<br>\n",
    "<br>"
   ]
  },
  {
   "attachments": {},
   "cell_type": "markdown",
   "metadata": {},
   "source": [
    "## 1. Health Care Company[5pts]\n",
    "<hr style=\"border-top: 0.1px dotted navy\" />\n",
    "\n",
    "<span style=\"font-size:16px\">Data file: \"reduc_fbs.csv\"</span>\n",
    "\n",
    "<span style=\"font-size:16px\">The health care company New Genes insisted that they developed new medicine named \"FreeSugar\" that can reduce fasting blood sugar level (if it is too much high, then it is prone to get diabetes.) almost 10%. So, the US Food and Drug Administration(FDA) decided to test their claim with a scientific experienment. They randomly sampled 300 patients and medicated newly developed \"FreeSugar\" medicine. Load the data file, calculate mean, and standard deviation. Then, given this scenario, please respond to the following questions:</span>\n",
    "\n",
    "<span style=\"font-size:16px\">1.1. [EXPLAIN] What is null and alternative hypothesis?[1.5pts]</span>\n",
    "\n",
    "<span style=\"font-size:16px\">1.2. [EXPLAIN] What is the type one error in this case? and why it is a serious matter?[1.5pts]</span>\n",
    "\n",
    "<span style=\"font-size:16px\">1.3. [CODE] What is t-value and p-value of sample mean?[1pts] You should calculate sample mean and standard deviation.</span>\n",
    "\n",
    "<span style=\"font-size:16px\">1.4. [EXPLAIN] What is your conclusion?[1pts]</span>\n",
    "\n"
   ]
  },
  {
   "attachments": {},
   "cell_type": "markdown",
   "metadata": {},
   "source": [
    "## 2. Gaming Company1[5pts]\n",
    "<hr style=\"border-top: 0.1px dotted navy\" />\n",
    "\n",
    "<span style=\"font-size:16px\">Data file: \"apt.csv\"</span>\n",
    "\n",
    "<span style=\"font-size:16px\">The game development company MCSoft is in a crisis as its quarterly revenue gain was decreased dramatically by 45% comparing with the last quarter. Such a dramatic reduction in the revenue gain increased woes of the stockholders and investors, dropping its stock price almost 25% in a day. The business leader group of the MCSoft had to relieve the worries and concern of the investors. </span>\n",
    "\n",
    "<span style=\"font-size:16px\">So, they decided to open up the beta test result of the new game at its pre-release version. The MCSoft claimed that the new game called \"Origin2\" in its beta test achieved average of 20 hrs active playing time per month (APT), the average APT of the \"Origin1\" is 18 hrs. It is known that every 1 hr incease in APT, per user revenue gain increases almost $10 per month. And 2 hrs of increase in APT looked enough improvement to relieve the investors' woes.</span> \n",
    "\n",
    "<span style=\"font-size:16px\">Then, the ShinWan Investment Bank, one of the largest investor of the MCSoft, decided to test their claim in a scientific way before investing $ 100,000,000 to this company. They randomly sampled 500 players of the \"Origin2\" beta test version and measured their active playing time. Load the data file, calculate mean, and standard deviation. Then, given this scenario, please respond to the following questions:</span>\n",
    "\n",
    "<span style=\"font-size:16px\">2.1. [EXPLAIN] What is null and alternative hypothesis?[1.5pts]</span>\n",
    "\n",
    "<span style=\"font-size:16px\">2.2. [EXPLAIN] What is the type one error in this case? and why it is a serious matter?[1.5pts]</span>\n",
    "\n",
    "<span style=\"font-size:16px\">2.3. [CODE] What is t-value and p-value of sample mean?[1pts]</span>\n",
    "\n",
    "<span style=\"font-size:16px\">2.4. [EXPLAIN] What is your conclusion?[1pts]</span>"
   ]
  },
  {
   "attachments": {},
   "cell_type": "markdown",
   "metadata": {},
   "source": [
    "## 3. Gaming Company2[5pts]\n",
    "<hr style=\"border-top: 0.1px dotted navy\" />\n",
    "\n",
    "<span style=\"font-size:16px\">Data file: \"prob_item.csv\"</span>\n",
    "\n",
    "<span style=\"font-size:16px\">The game development company KoKoaGames earned a huge revenue gain by selling game items that is randomly assigned with a certain probability. It is called probabilistic game items. To get the special game items, users should pay as much as $5 for each trial for the random roulette. But, some game users suspected that the KoKoaGames manipulated the probability of the probabilistic game items, and filed a lawsuit against the company requesting to publish the probability of each random game items. The court ordered to publish the probability of each item.</span> \n",
    "\n",
    "<span style=\"font-size:16px\">KoKoaGames announced that the probability of popular game item called \"Sword of Knights\" is 2%, which means that once the users try the random roulette 50 times, then they can get the \"Sword of Knights\" just one time. The estimated cost of the \"Sword of Knights\" is then $250. But, in the users community, many users still didn't trust the announcement of the game company, and requested open testing of their self-claimed probability of the item.</span>\n",
    "\n",
    "<span style=\"font-size:16px\">So, with a lot of press reporters and game users attended, KoKoaGames held an event to simulate random roulette for the \"Sword of Knights\". In this open event, they randomly created 300 mock accounts and alias in the game, and ran the random roulette for each alias. Load the data file, calculate mean, and standard deviation.</span>\n",
    "\n",
    "<span style=\"font-size:16px\">3.1. [EXPLAIN] What is null and alternative hypothesis?[1.5pts]</span>\n",
    "\n",
    "<span style=\"font-size:16px\">3.2. [EXPLAIN] What is the type one error in this case? and why it is a serious matter?[1.5pts]</span>\n",
    "\n",
    "<span style=\"font-size:16px\">3.3. [CODE] What is t-value and p-value of sample mean?[1pts] You should calculate sample mean and standard deviation.</span>\n",
    "\n",
    "<span style=\"font-size:16px\">3.4. [EXPLAIN] What is your conclusion?[1pts]</span>"
   ]
  },
  {
   "attachments": {},
   "cell_type": "markdown",
   "metadata": {},
   "source": [
    "## 4. People Analytics[10pts]\n",
    "<hr style=\"border-top: 0.1px dotted navy\" />\n",
    "<span style=\"font-size:16px\">Data file: \"worktime.csv\"</span>\n",
    "\n",
    "<span style=\"font-size:16px\">A Human Resource Management(HRM) team in the HanKook Energy Solution wanted to promote a well-being of their employees to improve rentention rate. The HRM team saw that weekly working time must be the significant indicator measuring a well-being of their employees and predicting future retention rate.</span> \n",
    "\n",
    "<span style=\"font-size:16px\">Thus, they decided to survey all of their staff members asking a question of \"How long do you work in a week?\" \n",
    "The survey result of the population is in the data file called \"workingtime.csv\". \n",
    "Load the data file, calculate mean and standard deviation.</span>\n",
    "\n",
    "<span style=\"font-size:16px\">4.1. [CODE] What is t-value of your 95% confidence level?[1pts]</span>\n",
    "\n",
    "<span style=\"font-size:16px\">4.2. [CODE] What is margin of error?[1pts]</span>\n",
    "\n",
    "<span style=\"font-size:16px\">4.3. [EXPLANATION] Interpret your margin of error with a confidence level[2pts]</span>\n",
    "\n",
    "<span style=\"font-size:16px\">4.4. [EXPLANATION] If you'd like to suggest narrower range of all possible values(narrower margin of error), then what you should do?[2pts]</span>\n",
    "\n",
    "<span style=\"font-size:16px\">4.5. [EXPLANATION] Please discuss why reporting internval estimation is a better choice than reporting point estimate in this case.[2pts]</span>\n",
    "\n",
    "<span style=\"font-size:16px\">4.5. [EXPLANATION] Why did you calculate the confidence interval though you have a population data at your hand? Why there is still uncertainty in your data set?[2pts]</span>"
   ]
  }
 ],
 "metadata": {
  "kernelspec": {
   "display_name": ".venv",
   "language": "python",
   "name": "python3"
  },
  "language_info": {
   "name": "python",
   "version": "3.11.0"
  },
  "orig_nbformat": 4
 },
 "nbformat": 4,
 "nbformat_minor": 2
}
