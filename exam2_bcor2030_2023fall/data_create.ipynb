{
 "cells": [
  {
   "cell_type": "code",
   "execution_count": 3,
   "metadata": {},
   "outputs": [],
   "source": [
    "import numpy as np\n",
    "import pandas as pd"
   ]
  },
  {
   "cell_type": "code",
   "execution_count": null,
   "metadata": {},
   "outputs": [],
   "source": [
    "# Health Care Company\n",
    "\n",
    "    # Each observation: one patients\n",
    "    # Mean: % reduction in fasting blood sugar\n",
    "    # SD: % reduction in fasting blood sugar\n",
    "    # size: 300\n",
    "reduc_fbs=np.random.normal(loc=0.08, scale=0.013, size=300)\n",
    "reduc_fbs"
   ]
  },
  {
   "cell_type": "code",
   "execution_count": 23,
   "metadata": {},
   "outputs": [],
   "source": [
    "# Gaming Company: MCSoft\n",
    "\n",
    "    # Each observation: one user\n",
    "    # Mean: active hours of playing \n",
    "    # SD: active hours of playing\n",
    "    # size: 500\n",
    "apt=np.random.normal(loc=18.05, scale=0.5265, size=500)\n",
    "apt=pd.DataFrame(apt, columns=['apt'])\n",
    "apt=apt.reset_index(drop=True)\n",
    "apt.to_csv(\"apt.csv\")"
   ]
  },
  {
   "cell_type": "code",
   "execution_count": 26,
   "metadata": {},
   "outputs": [],
   "source": [
    "# Gaming Company: KoKoaGames\n",
    "\n",
    "    # Each observation: one user\n",
    "    # Mean: probability to get the item \n",
    "    # SD: probability to get the item\n",
    "    # size: 300\n",
    "prob_item=np.random.normal(loc=0.0195, scale=0.0042, size=300)\n",
    "prob_item=pd.DataFrame(prob_item, columns=['prob_item'])\n",
    "prob_item=prob_item.reset_index(drop=True)\n",
    "prob_item.to_csv(\"prob_item.csv\")"
   ]
  },
  {
   "cell_type": "code",
   "execution_count": 11,
   "metadata": {},
   "outputs": [],
   "source": [
    "# People Analytics\n",
    "\n",
    "    # Each observation: one employee\n",
    "    # Mean: weekly working time \n",
    "    # SD: weekly working time\n",
    "    # size: 598\n",
    "worktime=np.random.normal(loc=52, scale=7, size=598)\n",
    "worktime=pd.DataFrame(worktime, columns=['worktime'])\n",
    "worktime=worktime.reset_index(drop=True)\n",
    "worktime.to_csv(\"worktime.csv\")"
   ]
  }
 ],
 "metadata": {
  "kernelspec": {
   "display_name": ".venv",
   "language": "python",
   "name": "python3"
  },
  "language_info": {
   "codemirror_mode": {
    "name": "ipython",
    "version": 3
   },
   "file_extension": ".py",
   "mimetype": "text/x-python",
   "name": "python",
   "nbconvert_exporter": "python",
   "pygments_lexer": "ipython3",
   "version": "3.11.0"
  },
  "orig_nbformat": 4
 },
 "nbformat": 4,
 "nbformat_minor": 2
}
