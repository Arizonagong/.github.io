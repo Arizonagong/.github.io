{
 "cells": [
  {
   "cell_type": "markdown",
   "metadata": {},
   "source": [
    "<span style=\"font-size:16px\">| BCOR2030, Fall 2023</span>\n",
    "<br>\n",
    "<span style=\"font-size:45px\"><b>Random Sampling</b></span><img style=\"float: right;padding-right:50px;\" src=\"https://eccles.utah.edu/wp-content/themes/wptheme-avada5/logos/eccles_logo_footer.png\" width=\"300\">\n",
    "<br>\n",
    "<br>\n",
    "<span style=\"font-size:18px; float:left;\"><b>By Prof. Byoung-gyu Gong     </b></span>\n",
    "<hr>\n",
    "<br>\n",
    "<br>\n",
    "<br>\n",
    "<span style=\"font-size:16px\">Random sampling in python can be easily achieved by using 'pandas' library.</span>\n",
    "\n",
    "<b>pip install pandas</b> - <span style=\"color:red\"><i>Data table manipulation library</i></span>"
   ]
  },
  {
   "cell_type": "code",
   "execution_count": 2,
   "metadata": {},
   "outputs": [],
   "source": [
    "# Load your library\n",
    "import pandas as pd"
   ]
  },
  {
   "cell_type": "markdown",
   "metadata": {},
   "source": [
    "## 1. How to load your data using pandas\n",
    "<hr style=\"border-top: 0.1px dotted navy\" />\n",
    "<span style=\"font-size:16px\">To load your data set in the csv format, you can use 'read_csv()' function in the pandas library. Before loading your data set, you should drag and drop the data file into your vscode project folder. Unless you move it to the project folder, the function will not be able to locate where your file is.</span>"
   ]
  },
  {
   "cell_type": "code",
   "execution_count": 3,
   "metadata": {},
   "outputs": [
    {
     "name": "stdout",
     "output_type": "stream",
     "text": [
      "      Manager  Annual Salary Training Program\n",
      "0         845        55724.9              Yes\n",
      "1         686        56833.5              Yes\n",
      "2        2338        49978.0               No\n",
      "3        1612        54009.5              Yes\n",
      "4         413        54842.2              Yes\n",
      "...       ...            ...              ...\n",
      "2495      713        46825.5              Yes\n",
      "2496      250        56233.1              Yes\n",
      "2497     1395        53109.5              Yes\n",
      "2498     2131        51934.2               No\n",
      "2499     1025        48571.4               No\n",
      "\n",
      "[2500 rows x 3 columns]\n"
     ]
    }
   ],
   "source": [
    "df=pd.read_csv(\"EAI.csv\")\n",
    "print(df)"
   ]
  },
  {
   "cell_type": "markdown",
   "metadata": {},
   "source": [
    "## 2. Explore your data set.\n",
    "<hr style=\"border-top: 0.1px dotted navy\" />\n",
    "<span style=\"font-size:16px\">Functions such as <b>'type()'</b> and <b>'describe()'</b> can give you a brief and easy summary look of your data.</span>"
   ]
  },
  {
   "cell_type": "code",
   "execution_count": 4,
   "metadata": {},
   "outputs": [
    {
     "data": {
      "text/html": [
       "<div>\n",
       "<style scoped>\n",
       "    .dataframe tbody tr th:only-of-type {\n",
       "        vertical-align: middle;\n",
       "    }\n",
       "\n",
       "    .dataframe tbody tr th {\n",
       "        vertical-align: top;\n",
       "    }\n",
       "\n",
       "    .dataframe thead th {\n",
       "        text-align: right;\n",
       "    }\n",
       "</style>\n",
       "<table border=\"1\" class=\"dataframe\">\n",
       "  <thead>\n",
       "    <tr style=\"text-align: right;\">\n",
       "      <th></th>\n",
       "      <th>Manager</th>\n",
       "      <th>Annual Salary</th>\n",
       "    </tr>\n",
       "  </thead>\n",
       "  <tbody>\n",
       "    <tr>\n",
       "      <th>count</th>\n",
       "      <td>2500.00000</td>\n",
       "      <td>2500.000000</td>\n",
       "    </tr>\n",
       "    <tr>\n",
       "      <th>mean</th>\n",
       "      <td>1250.50000</td>\n",
       "      <td>51800.000000</td>\n",
       "    </tr>\n",
       "    <tr>\n",
       "      <th>std</th>\n",
       "      <td>721.83216</td>\n",
       "      <td>4000.000067</td>\n",
       "    </tr>\n",
       "    <tr>\n",
       "      <th>min</th>\n",
       "      <td>1.00000</td>\n",
       "      <td>40990.300000</td>\n",
       "    </tr>\n",
       "    <tr>\n",
       "      <th>25%</th>\n",
       "      <td>625.75000</td>\n",
       "      <td>49036.500000</td>\n",
       "    </tr>\n",
       "    <tr>\n",
       "      <th>50%</th>\n",
       "      <td>1250.50000</td>\n",
       "      <td>51837.300000</td>\n",
       "    </tr>\n",
       "    <tr>\n",
       "      <th>75%</th>\n",
       "      <td>1875.25000</td>\n",
       "      <td>54577.675000</td>\n",
       "    </tr>\n",
       "    <tr>\n",
       "      <th>max</th>\n",
       "      <td>2500.00000</td>\n",
       "      <td>63538.700000</td>\n",
       "    </tr>\n",
       "  </tbody>\n",
       "</table>\n",
       "</div>"
      ],
      "text/plain": [
       "          Manager  Annual Salary\n",
       "count  2500.00000    2500.000000\n",
       "mean   1250.50000   51800.000000\n",
       "std     721.83216    4000.000067\n",
       "min       1.00000   40990.300000\n",
       "25%     625.75000   49036.500000\n",
       "50%    1250.50000   51837.300000\n",
       "75%    1875.25000   54577.675000\n",
       "max    2500.00000   63538.700000"
      ]
     },
     "execution_count": 4,
     "metadata": {},
     "output_type": "execute_result"
    }
   ],
   "source": [
    "type(df)\n",
    "df.describe()"
   ]
  },
  {
   "cell_type": "markdown",
   "metadata": {},
   "source": [
    "\n",
    "\n",
    "## 3. Modify Your Data\n",
    "<hr style=\"border-top: 0.1px dotted navy\" />\n",
    "<span style=\"font-size:16px\">By using <b>'columns()'</b> function, we can change the column names. Also, you need to remember that the white space in the column name can cause problems at the modeling and other advanced data pre-processing stage. So, it is better to replace it with '_'.</span>"
   ]
  },
  {
   "cell_type": "code",
   "execution_count": 5,
   "metadata": {},
   "outputs": [
    {
     "name": "stdout",
     "output_type": "stream",
     "text": [
      "      manager  annual_salary training_program\n",
      "0         845        55724.9              Yes\n",
      "1         686        56833.5              Yes\n",
      "2        2338        49978.0               No\n",
      "3        1612        54009.5              Yes\n",
      "4         413        54842.2              Yes\n",
      "...       ...            ...              ...\n",
      "2495      713        46825.5              Yes\n",
      "2496      250        56233.1              Yes\n",
      "2497     1395        53109.5              Yes\n",
      "2498     2131        51934.2               No\n",
      "2499     1025        48571.4               No\n",
      "\n",
      "[2500 rows x 3 columns]\n"
     ]
    }
   ],
   "source": [
    "# Modify your data\n",
    "# Modify your column names.\n",
    "df.columns=[\"manager\",\"annual_salary\",\"training_program\"]\n",
    "print(df)"
   ]
  },
  {
   "cell_type": "markdown",
   "metadata": {},
   "source": [
    "\n",
    "\n",
    "## 4. Random Sampling in pandas\n",
    "<hr style=\"border-top: 0.1px dotted navy\" />\n",
    "<span style=\"font-size:16px\">By using <b>'sample()'</b> function, we can randomly select specific number of rows or observations in the data table. The 'sample()' function does not select the same rows in default setting, 'replace=False'. You can specify the number of samples you'd like to select by number or fraction. </span>"
   ]
  },
  {
   "cell_type": "code",
   "execution_count": 7,
   "metadata": {},
   "outputs": [
    {
     "data": {
      "text/html": [
       "<div>\n",
       "<style scoped>\n",
       "    .dataframe tbody tr th:only-of-type {\n",
       "        vertical-align: middle;\n",
       "    }\n",
       "\n",
       "    .dataframe tbody tr th {\n",
       "        vertical-align: top;\n",
       "    }\n",
       "\n",
       "    .dataframe thead th {\n",
       "        text-align: right;\n",
       "    }\n",
       "</style>\n",
       "<table border=\"1\" class=\"dataframe\">\n",
       "  <thead>\n",
       "    <tr style=\"text-align: right;\">\n",
       "      <th></th>\n",
       "      <th>manager</th>\n",
       "      <th>annual_salary</th>\n",
       "      <th>training_program</th>\n",
       "    </tr>\n",
       "  </thead>\n",
       "  <tbody>\n",
       "    <tr>\n",
       "      <th>898</th>\n",
       "      <td>1461</td>\n",
       "      <td>52973.1</td>\n",
       "      <td>Yes</td>\n",
       "    </tr>\n",
       "    <tr>\n",
       "      <th>1780</th>\n",
       "      <td>1734</td>\n",
       "      <td>52152.6</td>\n",
       "      <td>Yes</td>\n",
       "    </tr>\n",
       "    <tr>\n",
       "      <th>2220</th>\n",
       "      <td>2126</td>\n",
       "      <td>55665.9</td>\n",
       "      <td>Yes</td>\n",
       "    </tr>\n",
       "    <tr>\n",
       "      <th>614</th>\n",
       "      <td>1343</td>\n",
       "      <td>46042.1</td>\n",
       "      <td>No</td>\n",
       "    </tr>\n",
       "    <tr>\n",
       "      <th>2468</th>\n",
       "      <td>505</td>\n",
       "      <td>61739.3</td>\n",
       "      <td>Yes</td>\n",
       "    </tr>\n",
       "    <tr>\n",
       "      <th>1588</th>\n",
       "      <td>2166</td>\n",
       "      <td>44956.5</td>\n",
       "      <td>No</td>\n",
       "    </tr>\n",
       "    <tr>\n",
       "      <th>631</th>\n",
       "      <td>414</td>\n",
       "      <td>51258.1</td>\n",
       "      <td>Yes</td>\n",
       "    </tr>\n",
       "    <tr>\n",
       "      <th>1581</th>\n",
       "      <td>2463</td>\n",
       "      <td>48063.7</td>\n",
       "      <td>No</td>\n",
       "    </tr>\n",
       "    <tr>\n",
       "      <th>822</th>\n",
       "      <td>1906</td>\n",
       "      <td>46663.9</td>\n",
       "      <td>No</td>\n",
       "    </tr>\n",
       "    <tr>\n",
       "      <th>1682</th>\n",
       "      <td>787</td>\n",
       "      <td>53974.6</td>\n",
       "      <td>Yes</td>\n",
       "    </tr>\n",
       "  </tbody>\n",
       "</table>\n",
       "</div>"
      ],
      "text/plain": [
       "      manager  annual_salary training_program\n",
       "898      1461        52973.1              Yes\n",
       "1780     1734        52152.6              Yes\n",
       "2220     2126        55665.9              Yes\n",
       "614      1343        46042.1               No\n",
       "2468      505        61739.3              Yes\n",
       "1588     2166        44956.5               No\n",
       "631       414        51258.1              Yes\n",
       "1581     2463        48063.7               No\n",
       "822      1906        46663.9               No\n",
       "1682      787        53974.6              Yes"
      ]
     },
     "execution_count": 7,
     "metadata": {},
     "output_type": "execute_result"
    }
   ],
   "source": [
    "df_sam=df.sample(10)"
   ]
  },
  {
   "cell_type": "code",
   "execution_count": 13,
   "metadata": {},
   "outputs": [
    {
     "data": {
      "text/html": [
       "<div>\n",
       "<style scoped>\n",
       "    .dataframe tbody tr th:only-of-type {\n",
       "        vertical-align: middle;\n",
       "    }\n",
       "\n",
       "    .dataframe tbody tr th {\n",
       "        vertical-align: top;\n",
       "    }\n",
       "\n",
       "    .dataframe thead th {\n",
       "        text-align: right;\n",
       "    }\n",
       "</style>\n",
       "<table border=\"1\" class=\"dataframe\">\n",
       "  <thead>\n",
       "    <tr style=\"text-align: right;\">\n",
       "      <th></th>\n",
       "      <th>manager</th>\n",
       "      <th>annual_salary</th>\n",
       "      <th>training_program</th>\n",
       "    </tr>\n",
       "  </thead>\n",
       "  <tbody>\n",
       "    <tr>\n",
       "      <th>2270</th>\n",
       "      <td>2320</td>\n",
       "      <td>41978.2</td>\n",
       "      <td>Yes</td>\n",
       "    </tr>\n",
       "    <tr>\n",
       "      <th>1060</th>\n",
       "      <td>2144</td>\n",
       "      <td>53673.6</td>\n",
       "      <td>No</td>\n",
       "    </tr>\n",
       "    <tr>\n",
       "      <th>2193</th>\n",
       "      <td>1409</td>\n",
       "      <td>53007.3</td>\n",
       "      <td>Yes</td>\n",
       "    </tr>\n",
       "    <tr>\n",
       "      <th>1194</th>\n",
       "      <td>1718</td>\n",
       "      <td>51713.5</td>\n",
       "      <td>Yes</td>\n",
       "    </tr>\n",
       "    <tr>\n",
       "      <th>1573</th>\n",
       "      <td>1137</td>\n",
       "      <td>48739.3</td>\n",
       "      <td>No</td>\n",
       "    </tr>\n",
       "    <tr>\n",
       "      <th>2102</th>\n",
       "      <td>490</td>\n",
       "      <td>56427.5</td>\n",
       "      <td>Yes</td>\n",
       "    </tr>\n",
       "    <tr>\n",
       "      <th>115</th>\n",
       "      <td>1898</td>\n",
       "      <td>53606.3</td>\n",
       "      <td>Yes</td>\n",
       "    </tr>\n",
       "    <tr>\n",
       "      <th>2430</th>\n",
       "      <td>1131</td>\n",
       "      <td>54000.3</td>\n",
       "      <td>No</td>\n",
       "    </tr>\n",
       "    <tr>\n",
       "      <th>1667</th>\n",
       "      <td>680</td>\n",
       "      <td>49886.5</td>\n",
       "      <td>Yes</td>\n",
       "    </tr>\n",
       "    <tr>\n",
       "      <th>1120</th>\n",
       "      <td>88</td>\n",
       "      <td>58829.1</td>\n",
       "      <td>Yes</td>\n",
       "    </tr>\n",
       "    <tr>\n",
       "      <th>1404</th>\n",
       "      <td>1769</td>\n",
       "      <td>50264.3</td>\n",
       "      <td>No</td>\n",
       "    </tr>\n",
       "    <tr>\n",
       "      <th>1986</th>\n",
       "      <td>16</td>\n",
       "      <td>44652.5</td>\n",
       "      <td>Yes</td>\n",
       "    </tr>\n",
       "  </tbody>\n",
       "</table>\n",
       "</div>"
      ],
      "text/plain": [
       "      manager  annual_salary training_program\n",
       "2270     2320        41978.2              Yes\n",
       "1060     2144        53673.6               No\n",
       "2193     1409        53007.3              Yes\n",
       "1194     1718        51713.5              Yes\n",
       "1573     1137        48739.3               No\n",
       "2102      490        56427.5              Yes\n",
       "115      1898        53606.3              Yes\n",
       "2430     1131        54000.3               No\n",
       "1667      680        49886.5              Yes\n",
       "1120       88        58829.1              Yes\n",
       "1404     1769        50264.3               No\n",
       "1986       16        44652.5              Yes"
      ]
     },
     "execution_count": 13,
     "metadata": {},
     "output_type": "execute_result"
    }
   ],
   "source": [
    "df_sam=df.sample(frac=0.005)\n",
    "df_sam"
   ]
  },
  {
   "cell_type": "markdown",
   "metadata": {},
   "source": [
    "## 5. Calculate Your Sample Statistics\n",
    "<hr style=\"border-top: 0.1px dotted navy\" />\n",
    "<span style=\"font-size:16px\">By using <b>'mean()'</b> function, we can calculate the mean of the selected column in the data table. You can select specific column by putting the column name in the <b>your_dataframe[\"your_selected_column\"]</b>. </span>"
   ]
  },
  {
   "cell_type": "code",
   "execution_count": 11,
   "metadata": {},
   "outputs": [
    {
     "data": {
      "text/plain": [
       "52415.03199999999"
      ]
     },
     "execution_count": 11,
     "metadata": {},
     "output_type": "execute_result"
    }
   ],
   "source": [
    "df_sam[\"annual_salary\"].mean()"
   ]
  }
 ],
 "metadata": {
  "kernelspec": {
   "display_name": "Python 3 (ipykernel)",
   "language": "python",
   "name": "python3"
  },
  "language_info": {
   "codemirror_mode": {
    "name": "ipython",
    "version": 3
   },
   "file_extension": ".py",
   "mimetype": "text/x-python",
   "name": "python",
   "nbconvert_exporter": "python",
   "pygments_lexer": "ipython3",
   "version": "3.9.13"
  }
 },
 "nbformat": 4,
 "nbformat_minor": 4
}
