{
 "cells": [
  {
   "attachments": {},
   "cell_type": "markdown",
   "metadata": {},
   "source": [
    "<span style=\"font-size:16px\">| BCOR2030, Fall 2023</span>\n",
    "<br>\n",
    "<span style=\"font-size:45px\"><b>Function</b></span><img style=\"float: right;padding-right:50px;\" src=\"https://eccles.utah.edu/wp-content/themes/wptheme-avada5/logos/eccles_logo_footer.png\" width=\"300\">\n",
    "<br>\n",
    "<br>\n",
    "<span style=\"font-size:18px; float:left;\"><b>By Prof. Byoung-gyu Gong     </b></span>\n",
    "<hr>\n",
    "<br>\n",
    "<br>\n",
    "<br>"
   ]
  },
  {
   "attachments": {},
   "cell_type": "markdown",
   "metadata": {},
   "source": [
    "## 1. What is Function\n",
    "<hr style=\"border-top: 0.1px dotted navy\" />\n",
    "<span style=\"font-size:16px\">Function is everything you are using for the coding at this moment. Function get the inputs from the coder and returns expected output after processing the inputs according to the predefined procedure. Mostly, one unit of function performs single task, but if you want to make it much more complicated to implement high level tasks, then you can embed and connect multiple functions.</span>\n",
    "<br>\n",
    "\n",
    "## 2. Why Use Function\n",
    "<hr style=\"border-top: 0.1px dotted navy\" />\n",
    "<span style=\"font-size:16px\">By creating and using a function, you can avoid duplication of the redundant codes. You can use and reuse simple code of function to achieve the same outcome multiple times. By using function, you can save your time and energy to build up your code from the scratch. You can see the example code at bellow and compare the efficiency of coding between instance without a function, and with a function. You will easily find that the created function \"greeting()\" saves you time and effort to insert \"Hello\", \"!\", and \"Welcome to the BCOR2030\" for every single instances. </span>\n",
    "<br>\n"
   ]
  },
  {
   "cell_type": "code",
   "execution_count": 9,
   "metadata": {},
   "outputs": [
    {
     "name": "stdout",
     "output_type": "stream",
     "text": [
      "Hello Kevin! Welcome to the BCOR2030\n",
      "Hello Sarah! Welcome to the BCOR2030\n",
      "Hello Simon! Welcome to the BCOR2030\n",
      "Hello Kevin! Welcome to the BCOR2030\n",
      "Hello Sarah! Welcome to the BCOR2030\n",
      "Hello Simon! Welcome to the BCOR2030\n"
     ]
    }
   ],
   "source": [
    "# Instance without a function\n",
    "print(\"Hello Kevin! Welcome to the BCOR2030\")\n",
    "print(\"Hello Sarah! Welcome to the BCOR2030\")\n",
    "print(\"Hello Simon! Welcome to the BCOR2030\")\n",
    "\n",
    "# Instance without a function\n",
    "def greeting(name):\n",
    "    return print(\"Hello \"+name+\"!\"+\" Welcome to the BCOR2030\")\n",
    "\n",
    "greeting(\"Kevin\")\n",
    "greeting(\"Sarah\")\n",
    "greeting(\"Simon\")"
   ]
  },
  {
   "attachments": {},
   "cell_type": "markdown",
   "metadata": {},
   "source": [
    "## 4. Syntax of the Functions\n",
    "<hr style=\"border-top: 0.1px dotted navy\" />\n",
    "<span style=\"font-size:16px\">By creating and using a function, you can avoid duplication of the redundant codes. You can use and reuse simple code of function to achieve the same outcome multiple times. By using function, you can save your time and energy to build up your code from the scratch. You can see the example code at bellow and compare the efficiency of coding between instance without a function, and with a function. You will easily find that the created function \"greeting()\" saves you time and effort to insert \"Hello\", \"!\", and \"Welcome to the BCOR2030\" for every single instances. </span>\n",
    "<br>\n",
    "\n",
    "<span style=\"font-size:16px\">\n",
    "<blockquote style=\"font-size:16px\">H0: Average weight of new born babies $\\ge$ 3kg($\\mu$=3)<br>Ha: Average weight of new born babies $<$3kg($\\mu<$3)</blockquote>\n",
    "<span style=\"font-size:16px\">To test the hypothesis above, we collected 36 sample data from the new born babies through a random sampling. The sample mean was 2.95 and standard deviation was 0.15. Please be noted that I changed the sample mean from 2.92 to 2.95, and standard devaition from 0.17 to 0.15, making mean get more close to the hypothesized value comapring with the two-tailed testing. </span>"
   ]
  },
  {
   "attachments": {},
   "cell_type": "markdown",
   "metadata": {},
   "source": [
    "# pip install pandas\n",
    "pip install numpy\n",
    "pip install scipy\n",
    "pip install statistics\n",
    "pip install matplotlib\n",
    "pip install seaborn"
   ]
  },
  {
   "cell_type": "code",
   "execution_count": 1,
   "metadata": {},
   "outputs": [],
   "source": [
    "import numpy as np\n",
    "import math\n",
    "from math import factorial"
   ]
  },
  {
   "cell_type": "code",
   "execution_count": 2,
   "metadata": {},
   "outputs": [],
   "source": [
    "def addition(x,y):\n",
    "    return x+y"
   ]
  },
  {
   "cell_type": "code",
   "execution_count": 3,
   "metadata": {},
   "outputs": [
    {
     "data": {
      "text/plain": [
       "2"
      ]
     },
     "execution_count": 3,
     "metadata": {},
     "output_type": "execute_result"
    }
   ],
   "source": [
    "addition(1,1)"
   ]
  },
  {
   "cell_type": "code",
   "execution_count": 6,
   "metadata": {},
   "outputs": [
    {
     "data": {
      "text/plain": [
       "2.0"
      ]
     },
     "execution_count": 6,
     "metadata": {},
     "output_type": "execute_result"
    }
   ],
   "source": [
    "# Subtraction function\n",
    "def division(x,y):\n",
    "    return x/y\n",
    "\n",
    "division(2,1)"
   ]
  },
  {
   "cell_type": "code",
   "execution_count": 7,
   "metadata": {},
   "outputs": [],
   "source": [
    "# Creating arithmatic calculator\n",
    "def calculator(x,y,k):\n",
    "    if k==\"+\":\n",
    "        return x+y\n",
    "    if k==\"-\":\n",
    "        return x-y\n",
    "    if k==\"*\":\n",
    "        return x*y\n",
    "    if k==\"/\":\n",
    "        return x/y\n",
    "    "
   ]
  },
  {
   "cell_type": "code",
   "execution_count": 11,
   "metadata": {},
   "outputs": [
    {
     "data": {
      "text/plain": [
       "4.0"
      ]
     },
     "execution_count": 11,
     "metadata": {},
     "output_type": "execute_result"
    }
   ],
   "source": [
    "calculator(8,2,\"/\")"
   ]
  },
  {
   "cell_type": "code",
   "execution_count": 12,
   "metadata": {},
   "outputs": [],
   "source": [
    "# Function with string inputs\n",
    "def hello(x):\n",
    "    print(\"Hello \"+x)"
   ]
  },
  {
   "cell_type": "code",
   "execution_count": 14,
   "metadata": {},
   "outputs": [
    {
     "name": "stdout",
     "output_type": "stream",
     "text": [
      "Hello Gaeun\n"
     ]
    }
   ],
   "source": [
    "hello(\"Gaeun\")"
   ]
  },
  {
   "cell_type": "code",
   "execution_count": 29,
   "metadata": {},
   "outputs": [],
   "source": [
    "def grade(x,y):\n",
    "    return print(x+\" your grade is \"+y)"
   ]
  },
  {
   "cell_type": "code",
   "execution_count": 31,
   "metadata": {},
   "outputs": [
    {
     "name": "stdout",
     "output_type": "stream",
     "text": [
      "Taekyung your grade is A\n"
     ]
    }
   ],
   "source": [
    "grade(\"Taekyung\",\"A\")"
   ]
  },
  {
   "cell_type": "code",
   "execution_count": 28,
   "metadata": {},
   "outputs": [
    {
     "data": {
      "text/plain": [
       "('Dear ', 'Byoung-gyu')"
      ]
     },
     "execution_count": 28,
     "metadata": {},
     "output_type": "execute_result"
    }
   ],
   "source": []
  },
  {
   "cell_type": "code",
   "execution_count": 23,
   "metadata": {},
   "outputs": [
    {
     "name": "stdout",
     "output_type": "stream",
     "text": [
      "Dear\n"
     ]
    }
   ],
   "source": [
    "print(\"Dear\")"
   ]
  },
  {
   "cell_type": "code",
   "execution_count": 36,
   "metadata": {},
   "outputs": [],
   "source": [
    "# Binom\n",
    "def my_binom(n,x,p):\n",
    "    import math\n",
    "    from math import factorial\n",
    "    if p>1:\n",
    "        return print(\"Your p value is out of bound.\")\n",
    "    else:\n",
    "        k1=factorial(n)/(factorial(x)*factorial(n-1))\n",
    "        k2=p**x*(1-p)**(n-x)\n",
    "        return k1*k2"
   ]
  },
  {
   "cell_type": "code",
   "execution_count": 37,
   "metadata": {},
   "outputs": [
    {
     "name": "stdout",
     "output_type": "stream",
     "text": [
      "Your p value is out of bound.\n"
     ]
    }
   ],
   "source": [
    "# 3 times tossing a coin, interested in seeing head 1 time,\n",
    "# assuming that the coin is even.\n",
    "n=3\n",
    "x=1\n",
    "p=4\n",
    "my_binom(n,x,p)"
   ]
  }
 ],
 "metadata": {
  "kernelspec": {
   "display_name": ".venv",
   "language": "python",
   "name": "python3"
  },
  "language_info": {
   "codemirror_mode": {
    "name": "ipython",
    "version": 3
   },
   "file_extension": ".py",
   "mimetype": "text/x-python",
   "name": "python",
   "nbconvert_exporter": "python",
   "pygments_lexer": "ipython3",
   "version": "3.11.0"
  },
  "orig_nbformat": 4
 },
 "nbformat": 4,
 "nbformat_minor": 2
}
