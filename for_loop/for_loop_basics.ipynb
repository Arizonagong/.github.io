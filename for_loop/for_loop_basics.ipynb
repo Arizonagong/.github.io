{
 "cells": [
  {
   "attachments": {},
   "cell_type": "markdown",
   "metadata": {},
   "source": [
    "<span style=\"font-size:16px\">| BCOR2030, Fall 2023</span>\n",
    "<br>\n",
    "<span style=\"font-size:45px\"><b>Loop in Python</b></span><img style=\"float: right;padding-right:50px;\" src=\"https://eccles.utah.edu/wp-content/themes/wptheme-avada5/logos/eccles_logo_footer.png\" width=\"300\">\n",
    "<br>\n",
    "<br>\n",
    "<span style=\"font-size:18px; float:left;\"><b>By Prof. Byoung-gyu Gong     </b></span>\n",
    "<hr>"
   ]
  },
  {
   "attachments": {},
   "cell_type": "markdown",
   "metadata": {},
   "source": [
    "<br>\n",
    "<br>\n",
    "<br>\n",
    "<span style=\"font-size:16px\">Loop is the basic mechanism to process repeated tasks with a single pack of function. Loop is very critical skill you should master to become a programmer and in combination with the conditional statement and customized function, you can do whatever tasks you want to do with coding.</span>\n",
    "<span style=\"font-size:16px\">There are two different types of loop function, <b>while</b>, and <b>for</b> loop.<span>"
   ]
  },
  {
   "attachments": {},
   "cell_type": "markdown",
   "metadata": {},
   "source": [
    "<span style=\"font-size:32px\">1. While Loop</span>\n",
    "<hr>\n",
    "<br>\n",
    "<p style=\"font-size:16px\">while loop continues the task until certain condition meets. So, it is quite unpredictable how many times you should repeat the task until find the desired output. It is good to use when you have uncertainty in your data set, and try to find specific output from it. But, such an unpredictability of scale and time for the task is also a downside of this function.</p>"
   ]
  },
  {
   "attachments": {},
   "cell_type": "markdown",
   "metadata": {},
   "source": [
    "<p style=\"font-size:16px\">Let's say that you are interested in knowing what will be the final output of iteration of i+1 starting from 0(i=0). If you don't set specific condition, it will continue like forever, and close to eternity. So, now you are interested in iteration until the output reaches 3.</p>\n",
    "<br>\n",
    "<span style=\"font-size:24px\"><b>1.1. While Loop - Basic</b></span>\n",
    "<hr>\n",
    "<p style=\"font-size:16px\">Basie format of the code looks like this:</p>\n",
    "<p style=\"font-size:24px; align:center\">while [condition]:<br>&nbsp;&nbsp;&nbsp;&nbsp;&nbsp;&nbsp;[function to execute only when the condition meets]</p>"
   ]
  },
  {
   "cell_type": "code",
   "execution_count": 39,
   "metadata": {},
   "outputs": [
    {
     "name": "stdout",
     "output_type": "stream",
     "text": [
      "0\n",
      "1\n",
      "2\n",
      "3\n"
     ]
    }
   ],
   "source": [
    "# Basic while loop\n",
    "\n",
    "i = 0 # initial value = starting point\n",
    "while i < 4: # I want to repeat the following function as far as the condition meets\n",
    "  print(i) # present what is initial value before starting the following function.\n",
    "  i = i+1 # main function you'd like to repeat."
   ]
  },
  {
   "attachments": {},
   "cell_type": "markdown",
   "metadata": {},
   "source": [
    "<br>\n",
    "<span style=\"font-size:24px\"><b>1.2. While Loop - Break</b></span>\n",
    "<hr>\n",
    "<p style=\"font-size:16px\"><b>Break</b> is the specific call function we can use inside the while loop. Break makes the while loop terminate its iteration if it meets certain sub-condition. So it is mainly used with embeded conditional statement in the while loop.</p>\n",
    "<p style=\"font-size:16px\">Basie format of the code looks like this:</p>\n",
    "<p style=\"font-size:24px; align:center\">while [main condition]:<br>&nbsp;&nbsp;&nbsp;&nbsp;&nbsp;&nbsp;[function to execute only when the condition meets]<br>&nbsp;&nbsp;&nbsp;&nbsp;&nbsp;&nbsp;[if statement=sub-condition]:<br>&nbsp;&nbsp;&nbsp;&nbsp;&nbsp;&nbsp;&nbsp;break<br>&nbsp;&nbsp;&nbsp;&nbsp;&nbsp;&nbsp;[function to iterate if it doesn't meet the sub-condition]</p>"
   ]
  },
  {
   "cell_type": "code",
   "execution_count": 41,
   "metadata": {},
   "outputs": [
    {
     "name": "stdout",
     "output_type": "stream",
     "text": [
      "1\n",
      "2\n",
      "3\n",
      "4\n"
     ]
    }
   ],
   "source": [
    "# Intermediate while loop with break\n",
    "\n",
    "i = 1 # starting point\n",
    "while i < 6: # continue loop as long as the given condition meets\n",
    "  print(i) # check up the initial point\n",
    "  if i == 4: # another condition to meet\n",
    "    break # if the condition above meets, stop the loop.\n",
    "  i = i+1 # otherwise, continue this function in the loop.\n",
    "    "
   ]
  },
  {
   "attachments": {},
   "cell_type": "markdown",
   "metadata": {},
   "source": [
    "<br>\n",
    "<span style=\"font-size:24px\"><b>1.3. While Loop - Continue</b></span>\n",
    "<hr>\n",
    "<p style=\"font-size:16px\"><b>Continue</b> is another specific call function we can use inside the while loop. <b>Continue</b> makes the while loop continue its iteration of main function if it meets certain sub-condition. So it is mainly used with embeded conditional statement in the while loop.</p>"
   ]
  },
  {
   "cell_type": "code",
   "execution_count": 56,
   "metadata": {},
   "outputs": [
    {
     "name": "stdout",
     "output_type": "stream",
     "text": [
      "1\n",
      "2\n",
      "4\n",
      "5\n",
      "6\n"
     ]
    }
   ],
   "source": [
    "# Intermediate while loop with continue\n",
    "\n",
    "i = 0 # starting point\n",
    "while i < 6: # condition\n",
    "  i += 1 # main function to iterate\n",
    "  if i == 3: # sub-condition to meet\n",
    "    continue # if condition meets, continue main function to iterate\n",
    "  print(i) # function to iterate if the condition does not meet."
   ]
  },
  {
   "attachments": {},
   "cell_type": "markdown",
   "metadata": {},
   "source": [
    "<br>\n",
    "<span style=\"font-size:24px\"><b>1.4. While Loop - with List</b></span>\n",
    "<hr>\n",
    "<p style=\"font-size:16px\">We can print and modify the list with the while loop. Let's say that we have a huge display at the main gate of our UAC building, and now we'd like to print out each students name in turn to highlight their achievement.</p>\n",
    "<p style=\"font-size:16px\">The while loop will print out each student name one at a time in turn.</p>"
   ]
  },
  {
   "cell_type": "code",
   "execution_count": 57,
   "metadata": {},
   "outputs": [
    {
     "name": "stdout",
     "output_type": "stream",
     "text": [
      "Gaeun\n",
      "Chulung\n",
      "Dongkyu\n",
      "Hyunji\n"
     ]
    }
   ],
   "source": [
    "a = ['Gaeun','Chulung','Dongkyu','Hyunji'] # List of students\n",
    "i=0 # starting point\n",
    "while i < len(a):\n",
    "    print(a[i])\n",
    "    i=i+1"
   ]
  },
  {
   "attachments": {},
   "cell_type": "markdown",
   "metadata": {},
   "source": [
    "<p style=\"font-size:16px\">Now let's assume that we'd like to find the name in the students' list. We'd like to find a name of Juah</p>\n",
    "<p style=\"font-size:16px\">The while loop with <b>break</b> will try to fine Juah's name in the list and may print out that it cannot find her name after the iteration up to the point illustrated at the while condition.</p>"
   ]
  },
  {
   "cell_type": "code",
   "execution_count": 59,
   "metadata": {},
   "outputs": [
    {
     "name": "stdout",
     "output_type": "stream",
     "text": [
      "Juah is not in the list.\n"
     ]
    }
   ],
   "source": [
    "a = ['Gaeun','Chulung','Dongkyu','Hyunji'] # List of students\n",
    "s = 'Juah' # Student name you'd like look up in the list\n",
    "\n",
    "i = 0\n",
    "while i < len(a):\n",
    "    if a[i] == s:\n",
    "         # Processing for item found\n",
    "        print(s, f\"is here at {i+1}th\")\n",
    "        break\n",
    "    i += 1\n",
    "else:\n",
    "    # Processing for item not found\n",
    "    print(s, 'is not in the list.')"
   ]
  },
  {
   "attachments": {},
   "cell_type": "markdown",
   "metadata": {},
   "source": [
    "<p style=\"font-size:16px\">The while loop with <b>break</b> will try to fine Gaeun's name in the list and may print out that she is in the list as it meets the sub-condition stated with the if conditional statement.</p>"
   ]
  },
  {
   "cell_type": "code",
   "execution_count": 60,
   "metadata": {},
   "outputs": [
    {
     "name": "stdout",
     "output_type": "stream",
     "text": [
      "Gaeun is here at 1th\n"
     ]
    }
   ],
   "source": [
    "a = ['Gaeun','Chulung','Dongkyu','Hyunji'] # List of students\n",
    "s = 'Gaeun' # Student name you'd like look up in the list\n",
    "\n",
    "i = 0\n",
    "while i < len(a):\n",
    "    if a[i] == s:\n",
    "         # Processing for item found\n",
    "        print(s, f\"is here at {i+1}th\")\n",
    "        break\n",
    "    i += 1\n",
    "else:\n",
    "    # Processing for item not found\n",
    "    print(s, 'is not in the list.')"
   ]
  },
  {
   "attachments": {},
   "cell_type": "markdown",
   "metadata": {},
   "source": [
    "<span style=\"font-size:32px\">2. For Loop</span>\n",
    "<hr>\n",
    "<br>\n",
    "<p style=\"font-size:16px\">For loop continues the task given the predefined number of iteration. So, it is quite predictable how many times you should repeat the task. It is good to use when you have certainty in your data set. For loop is more widely used because it only iterates the function limited number of times.</p>"
   ]
  },
  {
   "cell_type": "code",
   "execution_count": 67,
   "metadata": {},
   "outputs": [
    {
     "name": "stdout",
     "output_type": "stream",
     "text": [
      "index : 10\n",
      "index : 20\n",
      "index : 30\n",
      "index : 40\n",
      "index : 50\n"
     ]
    }
   ],
   "source": [
    "x = [10,20,30,40,50]\n",
    "i=0\n",
    "while i < len(x):\n",
    "    print(\"index \"+\":\",x[i])\n",
    "    i=i+1"
   ]
  },
  {
   "attachments": {},
   "cell_type": "markdown",
   "metadata": {},
   "source": [
    "Extra\n"
   ]
  },
  {
   "cell_type": "code",
   "execution_count": 70,
   "metadata": {},
   "outputs": [
    {
     "name": "stdout",
     "output_type": "stream",
     "text": [
      "Gaeun\n",
      "Chulung\n",
      "Dongkyu\n",
      "Hyunji\n"
     ]
    },
    {
     "ename": "KeyboardInterrupt",
     "evalue": "",
     "output_type": "error",
     "traceback": [
      "\u001b[0;31m---------------------------------------------------------------------------\u001b[0m",
      "\u001b[0;31mKeyboardInterrupt\u001b[0m                         Traceback (most recent call last)",
      "Cell \u001b[0;32mIn[70], line 8\u001b[0m\n\u001b[1;32m      6\u001b[0m \u001b[39mprint\u001b[39m(a[i])\n\u001b[1;32m      7\u001b[0m i\u001b[39m=\u001b[39mi\u001b[39m+\u001b[39m\u001b[39m1\u001b[39m\n\u001b[0;32m----> 8\u001b[0m time\u001b[39m.\u001b[39;49msleep(\u001b[39m5\u001b[39;49m)\n",
      "\u001b[0;31mKeyboardInterrupt\u001b[0m: "
     ]
    }
   ],
   "source": [
    "# Time lapse printing with while loop\n",
    "import time\n",
    "a = ['Gaeun','Chulung','Dongkyu','Hyunji'] # List of students\n",
    "i=0 # starting point\n",
    "while i < len(a):\n",
    "    print(a[i])\n",
    "    i=i+1\n",
    "    time.sleep(5)"
   ]
  }
 ],
 "metadata": {
  "kernelspec": {
   "display_name": ".venv",
   "language": "python",
   "name": "python3"
  },
  "language_info": {
   "codemirror_mode": {
    "name": "ipython",
    "version": 3
   },
   "file_extension": ".py",
   "mimetype": "text/x-python",
   "name": "python",
   "nbconvert_exporter": "python",
   "pygments_lexer": "ipython3",
   "version": "3.11.0"
  },
  "orig_nbformat": 4
 },
 "nbformat": 4,
 "nbformat_minor": 2
}
