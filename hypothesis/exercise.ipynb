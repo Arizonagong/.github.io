{
 "cells": [
  {
   "attachments": {},
   "cell_type": "markdown",
   "metadata": {},
   "source": [
    "<span style=\"font-size:16px\">| BCOR2030, Fall 2023</span>\n",
    "<br>\n",
    "<span style=\"font-size:45px\"><b>Hypothesis Testing: Exerci</b></span><img style=\"float: right;padding-right:50px;\" src=\"https://eccles.utah.edu/wp-content/themes/wptheme-avada5/logos/eccles_logo_footer.png\" width=\"300\">\n",
    "<br>\n",
    "<br>\n",
    "<span style=\"font-size:18px; float:left;\"><b>By Prof. Byoung-gyu Gong     </b></span>\n",
    "<hr>\n",
    "<br>\n",
    "<br>\n",
    "<br>"
   ]
  },
  {
   "attachments": {},
   "cell_type": "markdown",
   "metadata": {},
   "source": [
    "Chanu is planning to take vitamins. He claims that he should consume an average of 90 miligrams of vitamin per day. Now, Dr. Gong's students want to test his claim by collecting a random sample of 36 days and measuring the milligrams of vitamin. Students find that the sample has a mean consumption of 88 milligrams with standard deviation 6 mg. Do the hypothesis testing at a 5% significance level using two-tailed test to determine if Chanu's claim on consumption of calories is correct.\n",
    "\n",
    "a) set the null and alternative hypothesis\n",
    "b) calculate t-value and p-value of sample mean\n",
    "c) conclude whether to accept or reject the null hypothesis"
   ]
  },
  {
   "attachments": {},
   "cell_type": "markdown",
   "metadata": {},
   "source": [
    "Yujeong wants to compare the cost of two different brands of cosmetic products, A and B. She is interested in whether the price gap between the two brand is zero or not.Dr. Gong's BCOR 2030 students take a random sample of 30 products and record the cost of each brand. They found out that the mean cost of brand A was 42,000 won, while the mean cost of brand B was 40,000 won. So, the gap in the price was 2,000 won. The standard deviations for the price gap 1,000 won. Answer the following questions assuming that the significance level is 0.01.\n",
    "\n",
    "a) set the null and alternative hypothesis\n",
    "\n",
    "b) calculate t-value and p-value of sample mean\n",
    "\n",
    "c) conclude whether to accept or reject the null hypothesis"
   ]
  }
 ],
 "metadata": {
  "kernelspec": {
   "display_name": ".venv",
   "language": "python",
   "name": "python3"
  },
  "language_info": {
   "name": "python",
   "version": "3.11.0"
  },
  "orig_nbformat": 4
 },
 "nbformat": 4,
 "nbformat_minor": 2
}
