{
 "cells": [
  {
   "attachments": {},
   "cell_type": "markdown",
   "metadata": {},
   "source": [
    "Our hypothesized situation is calculating weight of new born babies. Thus, our population is the new born babies, population parameter is the average weight of the new born babies. We are interested in whether the average weight of the new born babies are 3kg or not\n",
    "\n",
    "H0: mu = 3kg\n",
    "HA: mu =/3kg\n",
    "\n",
    "To test the hypothesis above, we collected 36 sample data from the new born babies through a random sampling. The sample mean was 2.92 and standard deviation was 0.17"
   ]
  },
  {
   "cell_type": "code",
   "execution_count": 3,
   "metadata": {},
   "outputs": [],
   "source": [
    "import numpy as np\n",
    "import pandas as pd\n",
    "import scipy.stats as st\n",
    "import matplotlib.pyplot as plt\n",
    "from scipy.stats import t"
   ]
  },
  {
   "cell_type": "code",
   "execution_count": 4,
   "metadata": {},
   "outputs": [],
   "source": [
    "# Input data according to the above scenario\n",
    "hv=3 # hypothesized value: the value we'd like to test\n",
    "m=2.92 # sample mean\n",
    "sd=0.17 # sample's standard deviation\n",
    "n=36 # sample size\n",
    "degf=n-1"
   ]
  },
  {
   "attachments": {},
   "cell_type": "markdown",
   "metadata": {},
   "source": [
    "Calculating t-value of your sample mean"
   ]
  },
  {
   "cell_type": "code",
   "execution_count": 8,
   "metadata": {},
   "outputs": [
    {
     "name": "stdout",
     "output_type": "stream",
     "text": [
      "t-value of sample mean:-2.82\n",
      "p-value of sample mean:0.4%\n",
      "t-value of significance level:-2.03\n"
     ]
    }
   ],
   "source": [
    "# Two tailed testing\n",
    "\n",
    "# Set your siginfance level: 0.05(5%)\n",
    "sig=0.05/2 # Two tailed testing divide the sig in half for lower and upper tail.\n",
    "t_ppf=st.t.ppf(q=sig, df=degf) # t value matching with the significance level you set.\n",
    "\n",
    "# Calculate t-value of your sample mean\n",
    "ts=(m-hv)/(sd/np.sqrt(n)) # t-value of your sample mean\n",
    "t_cdf=st.t.cdf(ts, degf) # p-value given your calculated t-value of sample mean\n",
    "\n",
    "print(f\"t-value of sample mean:{round(ts,2)}\")\n",
    "print(f\"p-value of sample mean:{round(t_cdf,3)*100}%\")\n",
    "print(f\"t-value of significance level:{round(t_ppf,2)}\")\n"
   ]
  },
  {
   "cell_type": "markdown",
   "metadata": {},
   "source": []
  }
 ],
 "metadata": {
  "kernelspec": {
   "display_name": ".venv",
   "language": "python",
   "name": "python3"
  },
  "language_info": {
   "codemirror_mode": {
    "name": "ipython",
    "version": 3
   },
   "file_extension": ".py",
   "mimetype": "text/x-python",
   "name": "python",
   "nbconvert_exporter": "python",
   "pygments_lexer": "ipython3",
   "version": "3.11.0"
  },
  "orig_nbformat": 4
 },
 "nbformat": 4,
 "nbformat_minor": 2
}
